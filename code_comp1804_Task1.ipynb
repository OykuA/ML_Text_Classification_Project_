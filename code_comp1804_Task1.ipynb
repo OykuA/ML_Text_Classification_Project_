{
  "cells": [
    {
      "cell_type": "code",
      "execution_count": null,
      "metadata": {
        "id": "LPGt0Z7MhmaK"
      },
      "outputs": [],
      "source": [
        "# from google.colab import files\n",
        "\n",
        "# uploaded = files.upload()"
      ]
    },
    {
      "cell_type": "code",
      "execution_count": null,
      "metadata": {
        "id": "nFoW1xXyntpz"
      },
      "outputs": [],
      "source": [
        "# from google.colab import drive\n",
        "# drive.mount('/content/drive')"
      ]
    },
    {
      "cell_type": "code",
      "execution_count": null,
      "metadata": {
        "id": "3httJolihs-1"
      },
      "outputs": [],
      "source": [
        "# import sklearn.model_selection\n",
        "# import spacy\n",
        "# import pandas as pd\n",
        "# import numpy as np\n",
        "# import matplotlib.pyplot as plt\n",
        "# import io\n",
        "# from sklearn.model_selection import train_test_split\n",
        "\n",
        "\n",
        "# df = pd.read_csv(io.BytesIO(uploaded['comp1804_coursework_dataset_23-24 (1).csv']))\n",
        "# # df = pd.read_csv('/content/comp1804_coursework_dataset/comp1804_coursework_dataset_23-24 (1).csv', index_col=0) #this end with no par_id for some reason\n",
        "\n",
        "# pd.plotting.register_matplotlib_converters()\n",
        "import sklearn.model_selection\n",
        "import spacy\n",
        "import pandas as pd\n",
        "import numpy as np\n",
        "import matplotlib.pyplot as plt\n",
        "import io\n",
        "from sklearn.model_selection import train_test_split\n",
        "\n",
        "df = pd.read_csv('/content/comp1804_coursework_dataset_23-24 (1).csv')\n",
        "\n",
        "pd.plotting.register_matplotlib_converters()"
      ]
    },
    {
      "cell_type": "markdown",
      "metadata": {
        "id": "TAoyZXySGVRh"
      },
      "source": [
        "#  DATA PREPROCCESING"
      ]
    },
    {
      "cell_type": "code",
      "execution_count": null,
      "metadata": {
        "colab": {
          "base_uri": "https://localhost:8080/",
          "height": 597
        },
        "id": "_qszzEBwpCtj",
        "outputId": "3276d416-3b69-4580-ae1e-3fa6fb8880e9"
      },
      "outputs": [
        {
          "data": {
            "application/vnd.google.colaboratory.intrinsic+json": {
              "summary": "{\n  \"name\": \"df\",\n  \"rows\": 9347,\n  \"fields\": [\n    {\n      \"column\": \"par_id\",\n      \"properties\": {\n        \"dtype\": \"number\",\n        \"std\": 322139880749,\n        \"min\": 85003276,\n        \"max\": 1058779003275,\n        \"num_unique_values\": 9132,\n        \"samples\": [\n          759851002842,\n          77886005808,\n          325706008765\n        ],\n        \"semantic_type\": \"\",\n        \"description\": \"\"\n      }\n    },\n    {\n      \"column\": \"paragraph\",\n      \"properties\": {\n        \"dtype\": \"string\",\n        \"num_unique_values\": 8992,\n        \"samples\": [\n          \"In 1891, Thomas married Mary Kane, daughter of Sir Andrew Clark, heiress to a small fortune, which gave him the finances to hire mammal collectors and present their specimens to the museum. He also did field work himself in Western Europe and South America. His wife shared his interest in natural history, and accompanied him on collecting trips. In 1896, when William Henry Flower took control of the department, he hired Richard Lydekker to rearrange the exhibitions, allowing Thomas to concentrate on these new specimens.Thomas viewed his taxonomy efforts from the scope of British imperialism. \\\"You and I in our scientific lives have seen the general knowledge of Mammals of the world wonderfully advanced \\u2013 there are few or no blank areas anymore,\\\" he said in a letter to Gerrit Smith Miller Jr.Officially retired from the museum in 1923, he continued his work without interruption. Although popular rumours suggested he died by shooting himself with a handgun while sitting at his museum desk, he actually died at home in 1929, aged 71, about a year after the death of his wife, \\\"a severe blow from which he never recovered.\\\"\",\n          \"Disraeli always considered foreign affairs to be the most critical and interesting part of statesmanship. Nevertheless, his biographer Robert Blake doubts that his subject had specific ideas about foreign policy when he took office in 1874. He had rarely travelled abroad; since his youthful tour of the Middle East in 1830\\u20131831, he had left Britain only for his honeymoon and three visits to Paris, the last of which was in 1856. As he had criticised Gladstone for a do-nothing foreign policy, he most probably contemplated what actions would reassert Britain's place in Europe. His brief first premiership, and the first year of his second, gave him little opportunity to make his mark in foreign affairs.\",\n          \"I have sent your Watch at last & envy the felicity of it, that it should be soe near your side & soe often enjoy your Eye. ... .but have a care for it, for I have put such a spell into it; that every Beating of the Balance will tell you 'tis the Pulse of my Heart, which labors as much to serve you and more trewly than the Watch; for the Watch I beleeve will sometimes lie, and sometimes be idle & unwilling ... but as for me you may be confident I shall never ...\"\n        ],\n        \"semantic_type\": \"\",\n        \"description\": \"\"\n      }\n    },\n    {\n      \"column\": \"has_entity\",\n      \"properties\": {\n        \"dtype\": \"category\",\n        \"num_unique_values\": 9,\n        \"samples\": [\n          \"ORG_YES_PRODUCT_YES_PERSON_NO_\",\n          \"ORG_YES_PRODUCT_NO_PERSON_NO_\",\n          \"ORG_NO_PRODUCT_YES_PERSON_YES_\"\n        ],\n        \"semantic_type\": \"\",\n        \"description\": \"\"\n      }\n    },\n    {\n      \"column\": \"lexicon_count\",\n      \"properties\": {\n        \"dtype\": \"number\",\n        \"std\": 63,\n        \"min\": 0,\n        \"max\": 653,\n        \"num_unique_values\": 348,\n        \"samples\": [\n          237,\n          82,\n          274\n        ],\n        \"semantic_type\": \"\",\n        \"description\": \"\"\n      }\n    },\n    {\n      \"column\": \"difficult_words\",\n      \"properties\": {\n        \"dtype\": \"number\",\n        \"std\": 16.307358092882417,\n        \"min\": 0.0,\n        \"max\": 143.0,\n        \"num_unique_values\": 113,\n        \"samples\": [\n          96.0,\n          36.0,\n          15.0\n        ],\n        \"semantic_type\": \"\",\n        \"description\": \"\"\n      }\n    },\n    {\n      \"column\": \"last_editor_gender\",\n      \"properties\": {\n        \"dtype\": \"category\",\n        \"num_unique_values\": 4,\n        \"samples\": [\n          \"non-binary\",\n          \"prefer_not_to_say\",\n          \"man\"\n        ],\n        \"semantic_type\": \"\",\n        \"description\": \"\"\n      }\n    },\n    {\n      \"column\": \"category\",\n      \"properties\": {\n        \"dtype\": \"category\",\n        \"num_unique_values\": 10,\n        \"samples\": [\n          \"Biographies\",\n          \"artificial intelligence\",\n          \"Philosophy\"\n        ],\n        \"semantic_type\": \"\",\n        \"description\": \"\"\n      }\n    },\n    {\n      \"column\": \"text_clarity\",\n      \"properties\": {\n        \"dtype\": \"category\",\n        \"num_unique_values\": 2,\n        \"samples\": [\n          \"not_clear_enough\",\n          \"clear_enough\"\n        ],\n        \"semantic_type\": \"\",\n        \"description\": \"\"\n      }\n    }\n  ]\n}",
              "type": "dataframe",
              "variable_name": "df"
            },
            "text/html": [
              "\n",
              "  <div id=\"df-ca2a524d-ae3f-4db9-9883-250603e57e2e\" class=\"colab-df-container\">\n",
              "    <div>\n",
              "<style scoped>\n",
              "    .dataframe tbody tr th:only-of-type {\n",
              "        vertical-align: middle;\n",
              "    }\n",
              "\n",
              "    .dataframe tbody tr th {\n",
              "        vertical-align: top;\n",
              "    }\n",
              "\n",
              "    .dataframe thead th {\n",
              "        text-align: right;\n",
              "    }\n",
              "</style>\n",
              "<table border=\"1\" class=\"dataframe\">\n",
              "  <thead>\n",
              "    <tr style=\"text-align: right;\">\n",
              "      <th></th>\n",
              "      <th>par_id</th>\n",
              "      <th>paragraph</th>\n",
              "      <th>has_entity</th>\n",
              "      <th>lexicon_count</th>\n",
              "      <th>difficult_words</th>\n",
              "      <th>last_editor_gender</th>\n",
              "      <th>category</th>\n",
              "      <th>text_clarity</th>\n",
              "    </tr>\n",
              "  </thead>\n",
              "  <tbody>\n",
              "    <tr>\n",
              "      <th>0</th>\n",
              "      <td>428209002237</td>\n",
              "      <td>Ramsay was born in Glasgow on 2 October 1852. ...</td>\n",
              "      <td>ORG_YES_PRODUCT_NO_PERSON_YES_</td>\n",
              "      <td>49</td>\n",
              "      <td>12.0</td>\n",
              "      <td>man</td>\n",
              "      <td>biographies</td>\n",
              "      <td>clear_enough</td>\n",
              "    </tr>\n",
              "    <tr>\n",
              "      <th>1</th>\n",
              "      <td>564218010072</td>\n",
              "      <td>It has been widely estimated for at least the ...</td>\n",
              "      <td>ORG_YES_PRODUCT_NO_PERSON_NO_</td>\n",
              "      <td>166</td>\n",
              "      <td>47.0</td>\n",
              "      <td>man</td>\n",
              "      <td>artificial intelligence</td>\n",
              "      <td>not_clear_enough</td>\n",
              "    </tr>\n",
              "    <tr>\n",
              "      <th>2</th>\n",
              "      <td>291401001672</td>\n",
              "      <td>He went on to win the Royal Medal of the Royal...</td>\n",
              "      <td>ORG_YES_PRODUCT_NO_PERSON_NO_</td>\n",
              "      <td>69</td>\n",
              "      <td>18.0</td>\n",
              "      <td>non-binary</td>\n",
              "      <td>biographies</td>\n",
              "      <td>clear_enough</td>\n",
              "    </tr>\n",
              "    <tr>\n",
              "      <th>3</th>\n",
              "      <td>31548004883</td>\n",
              "      <td>The changes have altered many underlying assum...</td>\n",
              "      <td>ORG_NO_PRODUCT_YES_PERSON_NO_</td>\n",
              "      <td>76</td>\n",
              "      <td>27.0</td>\n",
              "      <td>non-binary</td>\n",
              "      <td>programming</td>\n",
              "      <td>clear_enough</td>\n",
              "    </tr>\n",
              "    <tr>\n",
              "      <th>4</th>\n",
              "      <td>50634005146</td>\n",
              "      <td>After these novels were published, Disraeli de...</td>\n",
              "      <td>ORG_YES_PRODUCT_YES_PERSON_YES_</td>\n",
              "      <td>200</td>\n",
              "      <td>47.0</td>\n",
              "      <td>man</td>\n",
              "      <td>biographies</td>\n",
              "      <td>not_clear_enough</td>\n",
              "    </tr>\n",
              "    <tr>\n",
              "      <th>...</th>\n",
              "      <td>...</td>\n",
              "      <td>...</td>\n",
              "      <td>...</td>\n",
              "      <td>...</td>\n",
              "      <td>...</td>\n",
              "      <td>...</td>\n",
              "      <td>...</td>\n",
              "      <td>...</td>\n",
              "    </tr>\n",
              "    <tr>\n",
              "      <th>9342</th>\n",
              "      <td>200523007578</td>\n",
              "      <td>Sir Joseph Dalton Hooker  was a British botani...</td>\n",
              "      <td>ORG_YES_PRODUCT_NO_PERSON_YES_</td>\n",
              "      <td>54</td>\n",
              "      <td>16.0</td>\n",
              "      <td>man</td>\n",
              "      <td>biographies</td>\n",
              "      <td>NaN</td>\n",
              "    </tr>\n",
              "    <tr>\n",
              "      <th>9343</th>\n",
              "      <td>50634005203</td>\n",
              "      <td>As successful invasions of India generally cam...</td>\n",
              "      <td>ORG_YES_PRODUCT_NO_PERSON_YES_</td>\n",
              "      <td>217</td>\n",
              "      <td>46.0</td>\n",
              "      <td>woman</td>\n",
              "      <td>biographies</td>\n",
              "      <td>NaN</td>\n",
              "    </tr>\n",
              "    <tr>\n",
              "      <th>9344</th>\n",
              "      <td>6437003939</td>\n",
              "      <td>Hawking was born on 8 January 1942 in Oxford t...</td>\n",
              "      <td>ORG_YES_PRODUCT_NO_PERSON_YES_</td>\n",
              "      <td>91</td>\n",
              "      <td>27.0</td>\n",
              "      <td>woman</td>\n",
              "      <td>biographies</td>\n",
              "      <td>NaN</td>\n",
              "    </tr>\n",
              "    <tr>\n",
              "      <th>9345</th>\n",
              "      <td>725259002815</td>\n",
              "      <td>More complex tasks can be making custom data e...</td>\n",
              "      <td>ORG_YES_PRODUCT_NO_PERSON_NO_</td>\n",
              "      <td>47</td>\n",
              "      <td>15.0</td>\n",
              "      <td>man</td>\n",
              "      <td>programming</td>\n",
              "      <td>NaN</td>\n",
              "    </tr>\n",
              "    <tr>\n",
              "      <th>9346</th>\n",
              "      <td>109126000894</td>\n",
              "      <td>Governments, and especially the police and cou...</td>\n",
              "      <td>ORG_NO_PRODUCT_NO_PERSON_NO_</td>\n",
              "      <td>87</td>\n",
              "      <td>8.0</td>\n",
              "      <td>man</td>\n",
              "      <td>philosophy</td>\n",
              "      <td>NaN</td>\n",
              "    </tr>\n",
              "  </tbody>\n",
              "</table>\n",
              "<p>9347 rows × 8 columns</p>\n",
              "</div>\n",
              "    <div class=\"colab-df-buttons\">\n",
              "\n",
              "  <div class=\"colab-df-container\">\n",
              "    <button class=\"colab-df-convert\" onclick=\"convertToInteractive('df-ca2a524d-ae3f-4db9-9883-250603e57e2e')\"\n",
              "            title=\"Convert this dataframe to an interactive table.\"\n",
              "            style=\"display:none;\">\n",
              "\n",
              "  <svg xmlns=\"http://www.w3.org/2000/svg\" height=\"24px\" viewBox=\"0 -960 960 960\">\n",
              "    <path d=\"M120-120v-720h720v720H120Zm60-500h600v-160H180v160Zm220 220h160v-160H400v160Zm0 220h160v-160H400v160ZM180-400h160v-160H180v160Zm440 0h160v-160H620v160ZM180-180h160v-160H180v160Zm440 0h160v-160H620v160Z\"/>\n",
              "  </svg>\n",
              "    </button>\n",
              "\n",
              "  <style>\n",
              "    .colab-df-container {\n",
              "      display:flex;\n",
              "      gap: 12px;\n",
              "    }\n",
              "\n",
              "    .colab-df-convert {\n",
              "      background-color: #E8F0FE;\n",
              "      border: none;\n",
              "      border-radius: 50%;\n",
              "      cursor: pointer;\n",
              "      display: none;\n",
              "      fill: #1967D2;\n",
              "      height: 32px;\n",
              "      padding: 0 0 0 0;\n",
              "      width: 32px;\n",
              "    }\n",
              "\n",
              "    .colab-df-convert:hover {\n",
              "      background-color: #E2EBFA;\n",
              "      box-shadow: 0px 1px 2px rgba(60, 64, 67, 0.3), 0px 1px 3px 1px rgba(60, 64, 67, 0.15);\n",
              "      fill: #174EA6;\n",
              "    }\n",
              "\n",
              "    .colab-df-buttons div {\n",
              "      margin-bottom: 4px;\n",
              "    }\n",
              "\n",
              "    [theme=dark] .colab-df-convert {\n",
              "      background-color: #3B4455;\n",
              "      fill: #D2E3FC;\n",
              "    }\n",
              "\n",
              "    [theme=dark] .colab-df-convert:hover {\n",
              "      background-color: #434B5C;\n",
              "      box-shadow: 0px 1px 3px 1px rgba(0, 0, 0, 0.15);\n",
              "      filter: drop-shadow(0px 1px 2px rgba(0, 0, 0, 0.3));\n",
              "      fill: #FFFFFF;\n",
              "    }\n",
              "  </style>\n",
              "\n",
              "    <script>\n",
              "      const buttonEl =\n",
              "        document.querySelector('#df-ca2a524d-ae3f-4db9-9883-250603e57e2e button.colab-df-convert');\n",
              "      buttonEl.style.display =\n",
              "        google.colab.kernel.accessAllowed ? 'block' : 'none';\n",
              "\n",
              "      async function convertToInteractive(key) {\n",
              "        const element = document.querySelector('#df-ca2a524d-ae3f-4db9-9883-250603e57e2e');\n",
              "        const dataTable =\n",
              "          await google.colab.kernel.invokeFunction('convertToInteractive',\n",
              "                                                    [key], {});\n",
              "        if (!dataTable) return;\n",
              "\n",
              "        const docLinkHtml = 'Like what you see? Visit the ' +\n",
              "          '<a target=\"_blank\" href=https://colab.research.google.com/notebooks/data_table.ipynb>data table notebook</a>'\n",
              "          + ' to learn more about interactive tables.';\n",
              "        element.innerHTML = '';\n",
              "        dataTable['output_type'] = 'display_data';\n",
              "        await google.colab.output.renderOutput(dataTable, element);\n",
              "        const docLink = document.createElement('div');\n",
              "        docLink.innerHTML = docLinkHtml;\n",
              "        element.appendChild(docLink);\n",
              "      }\n",
              "    </script>\n",
              "  </div>\n",
              "\n",
              "\n",
              "<div id=\"df-2f01fde9-7503-4dc6-a61c-a0bc8e16c2ef\">\n",
              "  <button class=\"colab-df-quickchart\" onclick=\"quickchart('df-2f01fde9-7503-4dc6-a61c-a0bc8e16c2ef')\"\n",
              "            title=\"Suggest charts\"\n",
              "            style=\"display:none;\">\n",
              "\n",
              "<svg xmlns=\"http://www.w3.org/2000/svg\" height=\"24px\"viewBox=\"0 0 24 24\"\n",
              "     width=\"24px\">\n",
              "    <g>\n",
              "        <path d=\"M19 3H5c-1.1 0-2 .9-2 2v14c0 1.1.9 2 2 2h14c1.1 0 2-.9 2-2V5c0-1.1-.9-2-2-2zM9 17H7v-7h2v7zm4 0h-2V7h2v10zm4 0h-2v-4h2v4z\"/>\n",
              "    </g>\n",
              "</svg>\n",
              "  </button>\n",
              "\n",
              "<style>\n",
              "  .colab-df-quickchart {\n",
              "      --bg-color: #E8F0FE;\n",
              "      --fill-color: #1967D2;\n",
              "      --hover-bg-color: #E2EBFA;\n",
              "      --hover-fill-color: #174EA6;\n",
              "      --disabled-fill-color: #AAA;\n",
              "      --disabled-bg-color: #DDD;\n",
              "  }\n",
              "\n",
              "  [theme=dark] .colab-df-quickchart {\n",
              "      --bg-color: #3B4455;\n",
              "      --fill-color: #D2E3FC;\n",
              "      --hover-bg-color: #434B5C;\n",
              "      --hover-fill-color: #FFFFFF;\n",
              "      --disabled-bg-color: #3B4455;\n",
              "      --disabled-fill-color: #666;\n",
              "  }\n",
              "\n",
              "  .colab-df-quickchart {\n",
              "    background-color: var(--bg-color);\n",
              "    border: none;\n",
              "    border-radius: 50%;\n",
              "    cursor: pointer;\n",
              "    display: none;\n",
              "    fill: var(--fill-color);\n",
              "    height: 32px;\n",
              "    padding: 0;\n",
              "    width: 32px;\n",
              "  }\n",
              "\n",
              "  .colab-df-quickchart:hover {\n",
              "    background-color: var(--hover-bg-color);\n",
              "    box-shadow: 0 1px 2px rgba(60, 64, 67, 0.3), 0 1px 3px 1px rgba(60, 64, 67, 0.15);\n",
              "    fill: var(--button-hover-fill-color);\n",
              "  }\n",
              "\n",
              "  .colab-df-quickchart-complete:disabled,\n",
              "  .colab-df-quickchart-complete:disabled:hover {\n",
              "    background-color: var(--disabled-bg-color);\n",
              "    fill: var(--disabled-fill-color);\n",
              "    box-shadow: none;\n",
              "  }\n",
              "\n",
              "  .colab-df-spinner {\n",
              "    border: 2px solid var(--fill-color);\n",
              "    border-color: transparent;\n",
              "    border-bottom-color: var(--fill-color);\n",
              "    animation:\n",
              "      spin 1s steps(1) infinite;\n",
              "  }\n",
              "\n",
              "  @keyframes spin {\n",
              "    0% {\n",
              "      border-color: transparent;\n",
              "      border-bottom-color: var(--fill-color);\n",
              "      border-left-color: var(--fill-color);\n",
              "    }\n",
              "    20% {\n",
              "      border-color: transparent;\n",
              "      border-left-color: var(--fill-color);\n",
              "      border-top-color: var(--fill-color);\n",
              "    }\n",
              "    30% {\n",
              "      border-color: transparent;\n",
              "      border-left-color: var(--fill-color);\n",
              "      border-top-color: var(--fill-color);\n",
              "      border-right-color: var(--fill-color);\n",
              "    }\n",
              "    40% {\n",
              "      border-color: transparent;\n",
              "      border-right-color: var(--fill-color);\n",
              "      border-top-color: var(--fill-color);\n",
              "    }\n",
              "    60% {\n",
              "      border-color: transparent;\n",
              "      border-right-color: var(--fill-color);\n",
              "    }\n",
              "    80% {\n",
              "      border-color: transparent;\n",
              "      border-right-color: var(--fill-color);\n",
              "      border-bottom-color: var(--fill-color);\n",
              "    }\n",
              "    90% {\n",
              "      border-color: transparent;\n",
              "      border-bottom-color: var(--fill-color);\n",
              "    }\n",
              "  }\n",
              "</style>\n",
              "\n",
              "  <script>\n",
              "    async function quickchart(key) {\n",
              "      const quickchartButtonEl =\n",
              "        document.querySelector('#' + key + ' button');\n",
              "      quickchartButtonEl.disabled = true;  // To prevent multiple clicks.\n",
              "      quickchartButtonEl.classList.add('colab-df-spinner');\n",
              "      try {\n",
              "        const charts = await google.colab.kernel.invokeFunction(\n",
              "            'suggestCharts', [key], {});\n",
              "      } catch (error) {\n",
              "        console.error('Error during call to suggestCharts:', error);\n",
              "      }\n",
              "      quickchartButtonEl.classList.remove('colab-df-spinner');\n",
              "      quickchartButtonEl.classList.add('colab-df-quickchart-complete');\n",
              "    }\n",
              "    (() => {\n",
              "      let quickchartButtonEl =\n",
              "        document.querySelector('#df-2f01fde9-7503-4dc6-a61c-a0bc8e16c2ef button');\n",
              "      quickchartButtonEl.style.display =\n",
              "        google.colab.kernel.accessAllowed ? 'block' : 'none';\n",
              "    })();\n",
              "  </script>\n",
              "</div>\n",
              "    </div>\n",
              "  </div>\n"
            ],
            "text/plain": [
              "            par_id                                          paragraph  \\\n",
              "0     428209002237  Ramsay was born in Glasgow on 2 October 1852. ...   \n",
              "1     564218010072  It has been widely estimated for at least the ...   \n",
              "2     291401001672  He went on to win the Royal Medal of the Royal...   \n",
              "3      31548004883  The changes have altered many underlying assum...   \n",
              "4      50634005146  After these novels were published, Disraeli de...   \n",
              "...            ...                                                ...   \n",
              "9342  200523007578  Sir Joseph Dalton Hooker  was a British botani...   \n",
              "9343   50634005203  As successful invasions of India generally cam...   \n",
              "9344    6437003939  Hawking was born on 8 January 1942 in Oxford t...   \n",
              "9345  725259002815  More complex tasks can be making custom data e...   \n",
              "9346  109126000894  Governments, and especially the police and cou...   \n",
              "\n",
              "                           has_entity  lexicon_count  difficult_words  \\\n",
              "0      ORG_YES_PRODUCT_NO_PERSON_YES_             49             12.0   \n",
              "1       ORG_YES_PRODUCT_NO_PERSON_NO_            166             47.0   \n",
              "2       ORG_YES_PRODUCT_NO_PERSON_NO_             69             18.0   \n",
              "3       ORG_NO_PRODUCT_YES_PERSON_NO_             76             27.0   \n",
              "4     ORG_YES_PRODUCT_YES_PERSON_YES_            200             47.0   \n",
              "...                               ...            ...              ...   \n",
              "9342   ORG_YES_PRODUCT_NO_PERSON_YES_             54             16.0   \n",
              "9343   ORG_YES_PRODUCT_NO_PERSON_YES_            217             46.0   \n",
              "9344   ORG_YES_PRODUCT_NO_PERSON_YES_             91             27.0   \n",
              "9345    ORG_YES_PRODUCT_NO_PERSON_NO_             47             15.0   \n",
              "9346     ORG_NO_PRODUCT_NO_PERSON_NO_             87              8.0   \n",
              "\n",
              "     last_editor_gender                 category      text_clarity  \n",
              "0                   man              biographies      clear_enough  \n",
              "1                   man  artificial intelligence  not_clear_enough  \n",
              "2            non-binary              biographies      clear_enough  \n",
              "3            non-binary              programming      clear_enough  \n",
              "4                   man              biographies  not_clear_enough  \n",
              "...                 ...                      ...               ...  \n",
              "9342                man              biographies               NaN  \n",
              "9343              woman              biographies               NaN  \n",
              "9344              woman              biographies               NaN  \n",
              "9345                man              programming               NaN  \n",
              "9346                man               philosophy               NaN  \n",
              "\n",
              "[9347 rows x 8 columns]"
            ]
          },
          "execution_count": 5,
          "metadata": {},
          "output_type": "execute_result"
        }
      ],
      "source": [
        "df"
      ]
    },
    {
      "cell_type": "code",
      "execution_count": null,
      "metadata": {
        "colab": {
          "base_uri": "https://localhost:8080/"
        },
        "id": "sjp-ks31E8S0",
        "outputId": "c90b7320-f538-4c48-cd49-f30d74d2cf7a"
      },
      "outputs": [
        {
          "name": "stdout",
          "output_type": "stream",
          "text": [
            "0        ORG_YES_PRODUCT_NO_PERSON_YES_\n",
            "1         ORG_YES_PRODUCT_NO_PERSON_NO_\n",
            "2         ORG_YES_PRODUCT_NO_PERSON_NO_\n",
            "3         ORG_NO_PRODUCT_YES_PERSON_NO_\n",
            "4       ORG_YES_PRODUCT_YES_PERSON_YES_\n",
            "                     ...               \n",
            "9342     ORG_YES_PRODUCT_NO_PERSON_YES_\n",
            "9343     ORG_YES_PRODUCT_NO_PERSON_YES_\n",
            "9344     ORG_YES_PRODUCT_NO_PERSON_YES_\n",
            "9345      ORG_YES_PRODUCT_NO_PERSON_NO_\n",
            "9346       ORG_NO_PRODUCT_NO_PERSON_NO_\n",
            "Name: has_entity, Length: 9347, dtype: object\n"
          ]
        }
      ],
      "source": [
        "print(df.has_entity)"
      ]
    },
    {
      "cell_type": "code",
      "execution_count": null,
      "metadata": {
        "colab": {
          "base_uri": "https://localhost:8080/"
        },
        "id": "bqtWSQz2h-yW",
        "outputId": "42ad40e8-e2b2-4432-d3e1-04a182dbdab9"
      },
      "outputs": [
        {
          "name": "stdout",
          "output_type": "stream",
          "text": [
            "Index(['par_id', 'paragraph', 'has_entity', 'lexicon_count', 'difficult_words',\n",
            "       'last_editor_gender', 'category', 'text_clarity'],\n",
            "      dtype='object')\n"
          ]
        }
      ],
      "source": [
        "print(df.columns)\n"
      ]
    },
    {
      "cell_type": "code",
      "execution_count": null,
      "metadata": {
        "colab": {
          "base_uri": "https://localhost:8080/"
        },
        "id": "tHCBKrojigzt",
        "outputId": "96c9bbba-e046-4255-b3f9-a37edc7bc72c"
      },
      "outputs": [
        {
          "name": "stdout",
          "output_type": "stream",
          "text": [
            "Specific row:\n",
            "         par_id                                          paragraph  \\\n",
            "1  564218010072  It has been widely estimated for at least the ...   \n",
            "\n",
            "                      has_entity  lexicon_count  difficult_words  \\\n",
            "1  ORG_YES_PRODUCT_NO_PERSON_NO_            166             47.0   \n",
            "\n",
            "  last_editor_gender                 category      text_clarity  \n",
            "1                man  artificial intelligence  not_clear_enough  \n"
          ]
        }
      ],
      "source": [
        "\n",
        "target_id = 564218010072\n",
        "\n",
        "specific_row = df[df['par_id'] == target_id]\n",
        "\n",
        "print(\"Specific row:\")\n",
        "print(specific_row)"
      ]
    },
    {
      "cell_type": "code",
      "execution_count": null,
      "metadata": {
        "id": "7M3HXUNvMm6a"
      },
      "outputs": [],
      "source": [
        "df['par_id'].fillna('nan', inplace=True)\n",
        "df['category'].fillna('nan', inplace=True)\n",
        "df['paragraph'].fillna('nan', inplace=True)\n",
        "df['has_entity'].fillna('nan', inplace=True)\n",
        "df['lexicon_count'].fillna('nan', inplace=True)\n",
        "df['difficult_words'].fillna('nan', inplace=True)\n",
        "df['last_editor_gender'].fillna('nan', inplace=True)\n",
        "\n",
        "df['text_clarity'].fillna('to be decided', inplace=True)\n"
      ]
    },
    {
      "cell_type": "code",
      "execution_count": null,
      "metadata": {
        "colab": {
          "base_uri": "https://localhost:8080/"
        },
        "id": "vxAgfTiEM14v",
        "outputId": "5aeb39f0-ae4a-4071-b288-561cfef68aa3"
      },
      "outputs": [
        {
          "name": "stdout",
          "output_type": "stream",
          "text": [
            "par_id                                                      79225005845\n",
            "paragraph             Pepys was the fifth of 11 children, but child ...\n",
            "has_entity                               ORG_YES_PRODUCT_NO_PERSON_YES_\n",
            "lexicon_count                                                        86\n",
            "difficult_words                                                     nan\n",
            "last_editor_gender                                                  man\n",
            "category                                                    biographies\n",
            "text_clarity                                              to be decided\n",
            "Name: 88, dtype: object\n"
          ]
        }
      ],
      "source": [
        "print(df.iloc[88])\n"
      ]
    },
    {
      "cell_type": "code",
      "execution_count": null,
      "metadata": {
        "colab": {
          "base_uri": "https://localhost:8080/"
        },
        "id": "P1LUwm5KFyWr",
        "outputId": "0e405bc5-7146-4002-817e-ecc1f7e22de9"
      },
      "outputs": [
        {
          "name": "stdout",
          "output_type": "stream",
          "text": [
            "['biographies' 'artificial intelligence' 'programming' 'philosophy'\n",
            " 'movies about artificial intelligence' 'Philosophy' 'nan' 'Programming'\n",
            " 'Artificial intelligence' 'Biographies'\n",
            " 'Movies about artificial intelligence']\n"
          ]
        }
      ],
      "source": [
        "print(df['category'].unique())"
      ]
    },
    {
      "cell_type": "code",
      "execution_count": null,
      "metadata": {
        "colab": {
          "base_uri": "https://localhost:8080/"
        },
        "id": "wIkGQ6GIFskl",
        "outputId": "fbd5759e-35be-4ac0-eeb4-aad21c747675"
      },
      "outputs": [
        {
          "name": "stdout",
          "output_type": "stream",
          "text": [
            "['biographies' 'artificial intelligence' 'programming' 'philosophy'\n",
            " 'movies about artificial intelligence' 'nan']\n"
          ]
        }
      ],
      "source": [
        "# The following text was generated using OpenAI's GPT-3.5 model on March , 2024:\n",
        "# \"The evaluation of artificial intelligence usage from ethical and academic perspectives is crucial to ensure accurate information flow. (Source: https://openai.com/gpt-3.5)\"\n",
        "\n",
        "df['category'] = df['category'].str.lower()  # Convert to lowercase\n",
        "\n",
        "# Get unique category names\n",
        "unique_categories = df['category'].unique()\n",
        "\n",
        "# Print the unique category names\n",
        "print(unique_categories)"
      ]
    },
    {
      "cell_type": "markdown",
      "metadata": {
        "id": "n2tKMEEBGcNT"
      },
      "source": [
        "# DATA SPLITTING"
      ]
    },
    {
      "cell_type": "code",
      "execution_count": null,
      "metadata": {
        "id": "2rA8SBziAmlM"
      },
      "outputs": [],
      "source": [
        "#split data into 2 datasets and each dataset only have columns paragragh and has_entity as input and category as output to train the model easily\n",
        "input_p = df[['paragraph','has_entity']]\n",
        "#input_h = df[['has_entity']]\n",
        "output = df['category']\n",
        "\n",
        "x_train, x_test, y_train, y_test = train_test_split(input_p, output, test_size=0.2, random_state=42)#splitting data into train and test sets 80 percent train and 20 percent test\n",
        "\n",
        "train_data = pd.DataFrame({'paragraph' : x_train['paragraph'], 'has_entity': x_train['has_entity'], 'category': y_train })\n",
        "test_data =pd.DataFrame({'paragraph': x_test['paragraph'], 'has_entity': x_test['has_entity'], 'category': y_test})\n",
        "\n",
        "train_data.to_csv('train_dataset.csv', index=False)\n",
        "test_data.to_csv('test_dataset.csv', index=False)\n",
        "\n",
        "# train_data = pd.read_csv('/content/train_dataset.csv', index_col=0)\n",
        "# train_data = pd.read_csv('/content/test_dataset.csv', index_col=0)"
      ]
    },
    {
      "cell_type": "code",
      "execution_count": null,
      "metadata": {
        "colab": {
          "base_uri": "https://localhost:8080/"
        },
        "id": "jRW_OyCrAziS",
        "outputId": "4e34e019-f5f7-4937-a5d7-ba88557ad4b7"
      },
      "outputs": [
        {
          "data": {
            "text/plain": [
              "(pandas.core.frame.DataFrame, pandas.core.frame.DataFrame)"
            ]
          },
          "execution_count": 14,
          "metadata": {},
          "output_type": "execute_result"
        }
      ],
      "source": [
        "type(train_data), type(test_data)"
      ]
    },
    {
      "cell_type": "code",
      "execution_count": null,
      "metadata": {
        "colab": {
          "base_uri": "https://localhost:8080/"
        },
        "id": "xgwgWEAqBJ_A",
        "outputId": "dbdbc3c5-af5c-40cc-aaf3-8ddcbac60fe1"
      },
      "outputs": [
        {
          "name": "stdout",
          "output_type": "stream",
          "text": [
            "Length of train data: 7477\n",
            "Length of test data: 1870\n",
            "Length of test data: 9347\n"
          ]
        }
      ],
      "source": [
        "print(f'Length of train data: {len(train_data)}')\n",
        "print(f'Length of test data: {len(test_data)}')\n",
        "print(f'Length of test data: {len(df)}')\n"
      ]
    },
    {
      "cell_type": "code",
      "execution_count": null,
      "metadata": {
        "id": "YNJ0xLpiODcq"
      },
      "outputs": [],
      "source": [
        "# input_clm_1 = df['paragraph']\n",
        "# input_clm_2 = df['has_entity']\n",
        "# output_clm = df['category']\n",
        "# print(input_clm_1.head())\n",
        "# print(sep=\"  \")\n",
        "# print(input_clm_2.head())\n",
        "# print(sep=\"  \")\n",
        "# print(output_clm.head())"
      ]
    },
    {
      "cell_type": "code",
      "execution_count": null,
      "metadata": {
        "colab": {
          "base_uri": "https://localhost:8080/"
        },
        "id": "QSbIdb7mTv3D",
        "outputId": "b230e00a-310a-4a2c-e2b2-fb82446fecb6"
      },
      "outputs": [
        {
          "name": "stdout",
          "output_type": "stream",
          "text": [
            "Number of duplicates in the training data: 184\n",
            "Number of duplicates in the test data: 10\n",
            "Number of duplicates in the df data: 215\n"
          ]
        }
      ],
      "source": [
        "print(f\"Number of duplicates in the training data: {train_data.duplicated().sum()}\")\n",
        "print(f\"Number of duplicates in the test data: {test_data.duplicated().sum()}\")\n",
        "print(f\"Number of duplicates in the df data: {df.duplicated().sum()}\")\n"
      ]
    },
    {
      "cell_type": "code",
      "execution_count": null,
      "metadata": {
        "id": "yLjMibKnUFvI"
      },
      "outputs": [],
      "source": [
        "df = df.drop_duplicates()\n",
        "# train_dataset = /content/train_dataset.csv.drop_duplicates()\n",
        "# test_dataset = /content/test_dataset.csv.drop_duplicates()"
      ]
    },
    {
      "cell_type": "code",
      "execution_count": null,
      "metadata": {
        "colab": {
          "base_uri": "https://localhost:8080/"
        },
        "id": "CQ5mRMmnTPWR",
        "outputId": "8aeb2165-164f-4a2a-8173-2007a1838c8d"
      },
      "outputs": [
        {
          "data": {
            "text/plain": [
              "biographies                             572\n",
              "philosophy                              513\n",
              "programming                             408\n",
              "artificial intelligence                 335\n",
              "movies about artificial intelligence     38\n",
              "nan                                       4\n",
              "Name: category, dtype: int64"
            ]
          },
          "execution_count": 19,
          "metadata": {},
          "output_type": "execute_result"
        }
      ],
      "source": [
        "test_data['category'].value_counts()"
      ]
    },
    {
      "cell_type": "code",
      "execution_count": null,
      "metadata": {
        "colab": {
          "base_uri": "https://localhost:8080/"
        },
        "id": "88dvHyT2HcT9",
        "outputId": "a0e5accb-65c1-4911-9f8c-53ad82f3d0d2"
      },
      "outputs": [
        {
          "data": {
            "text/plain": [
              "biographies                             2383\n",
              "philosophy                              2085\n",
              "programming                             1582\n",
              "artificial intelligence                 1241\n",
              "movies about artificial intelligence     129\n",
              "nan                                       57\n",
              "Name: category, dtype: int64"
            ]
          },
          "execution_count": 20,
          "metadata": {},
          "output_type": "execute_result"
        }
      ],
      "source": [
        "train_data['category'].value_counts()"
      ]
    },
    {
      "cell_type": "code",
      "execution_count": null,
      "metadata": {
        "colab": {
          "base_uri": "https://localhost:8080/",
          "height": 424
        },
        "id": "_MKwsEtZC24n",
        "outputId": "0651511c-fbaf-43c3-ba64-b6c4bb0fcb43"
      },
      "outputs": [
        {
          "data": {
            "application/vnd.google.colaboratory.intrinsic+json": {
              "summary": "{\n  \"name\": \"train_data\",\n  \"rows\": 7477,\n  \"fields\": [\n    {\n      \"column\": \"paragraph\",\n      \"properties\": {\n        \"dtype\": \"string\",\n        \"num_unique_values\": 7233,\n        \"samples\": [\n          \"\\\"Well, in our country,\\\" said Alice, still panting a little, \\\"you'd generally get to somewhere else\\u2014if you ran very fast for a long time, as we've been doing.\\\"\",\n          \"A convenient feature of Commodore's ROM-resident BASIC interpreter and KERNAL was the full-screen editor. Although Commodore keyboards only have two cursor keys which alternated direction when the shift key was held, the screen editor allowed users to enter direct commands or to input and edit program lines from anywhere on the screen. If a line was prefixed with a line number, it was tokenized and stored in program memory. Lines not beginning with a number were executed by pressing the RETURN key whenever the cursor happened to be on the line. This marked a significant upgrade in program entry interfaces compared to other common home computer BASICs at the time, which typically used line editors, invoked by a separate EDIT command, or a \\\"copy cursor\\\" that truncated the line at the cursor's position.\",\n          \"Constraint logic programming extends Prolog to include concepts from constraint satisfaction. A constraint logic program allows constraints in the body of clauses, such as: A :- X+Y>0. It is suited to large-scale combinatorial optimisation problems and is thus useful for applications in industrial settings, such as automated time-tabling and production scheduling. Most Prolog systems ship with at least one constraint solver for finite domains, and often also with solvers for other domains like rational numbers.\"\n        ],\n        \"semantic_type\": \"\",\n        \"description\": \"\"\n      }\n    },\n    {\n      \"column\": \"has_entity\",\n      \"properties\": {\n        \"dtype\": \"category\",\n        \"num_unique_values\": 9,\n        \"samples\": [\n          \"ORG_NO_PRODUCT_YES_PERSON_YES_\",\n          \"ORG_YES_PRODUCT_NO_PERSON_YES_\",\n          \"ORG_YES_PRODUCT_YES_PERSON_YES_\"\n        ],\n        \"semantic_type\": \"\",\n        \"description\": \"\"\n      }\n    },\n    {\n      \"column\": \"category\",\n      \"properties\": {\n        \"dtype\": \"category\",\n        \"num_unique_values\": 6,\n        \"samples\": [\n          \"biographies\",\n          \"programming\",\n          \"movies about artificial intelligence\"\n        ],\n        \"semantic_type\": \"\",\n        \"description\": \"\"\n      }\n    }\n  ]\n}",
              "type": "dataframe",
              "variable_name": "train_data"
            },
            "text/html": [
              "\n",
              "  <div id=\"df-c49e8151-8951-4eab-95f1-3cf1f52335bb\" class=\"colab-df-container\">\n",
              "    <div>\n",
              "<style scoped>\n",
              "    .dataframe tbody tr th:only-of-type {\n",
              "        vertical-align: middle;\n",
              "    }\n",
              "\n",
              "    .dataframe tbody tr th {\n",
              "        vertical-align: top;\n",
              "    }\n",
              "\n",
              "    .dataframe thead th {\n",
              "        text-align: right;\n",
              "    }\n",
              "</style>\n",
              "<table border=\"1\" class=\"dataframe\">\n",
              "  <thead>\n",
              "    <tr style=\"text-align: right;\">\n",
              "      <th></th>\n",
              "      <th>paragraph</th>\n",
              "      <th>has_entity</th>\n",
              "      <th>category</th>\n",
              "    </tr>\n",
              "  </thead>\n",
              "  <tbody>\n",
              "    <tr>\n",
              "      <th>6443</th>\n",
              "      <td>Extension of the Bank to the north-west, the e...</td>\n",
              "      <td>ORG_YES_PRODUCT_NO_PERSON_NO_</td>\n",
              "      <td>biographies</td>\n",
              "    </tr>\n",
              "    <tr>\n",
              "      <th>5846</th>\n",
              "      <td>Thomson's separation of neon isotopes by their...</td>\n",
              "      <td>ORG_YES_PRODUCT_NO_PERSON_YES_</td>\n",
              "      <td>biographies</td>\n",
              "    </tr>\n",
              "    <tr>\n",
              "      <th>7104</th>\n",
              "      <td>The Python License was an open-source, GPL-com...</td>\n",
              "      <td>ORG_YES_PRODUCT_NO_PERSON_NO_</td>\n",
              "      <td>programming</td>\n",
              "    </tr>\n",
              "    <tr>\n",
              "      <th>251</th>\n",
              "      <td>Now let's be clear before we go any further t...</td>\n",
              "      <td>ORG_YES_PRODUCT_NO_PERSON_YES_</td>\n",
              "      <td>biographies</td>\n",
              "    </tr>\n",
              "    <tr>\n",
              "      <th>8606</th>\n",
              "      <td>A General System of Botany, Descriptive and An...</td>\n",
              "      <td>ORG_NO_PRODUCT_NO_PERSON_YES_</td>\n",
              "      <td>biographies</td>\n",
              "    </tr>\n",
              "    <tr>\n",
              "      <th>...</th>\n",
              "      <td>...</td>\n",
              "      <td>...</td>\n",
              "      <td>...</td>\n",
              "    </tr>\n",
              "    <tr>\n",
              "      <th>5734</th>\n",
              "      <td>Britannia Hospital is a 1982 British black com...</td>\n",
              "      <td>ORG_YES_PRODUCT_NO_PERSON_YES_</td>\n",
              "      <td>movies about artificial intelligence</td>\n",
              "    </tr>\n",
              "    <tr>\n",
              "      <th>5191</th>\n",
              "      <td>The earliest clear discussion of the karma doc...</td>\n",
              "      <td>ORG_YES_PRODUCT_NO_PERSON_YES_</td>\n",
              "      <td>philosophy</td>\n",
              "    </tr>\n",
              "    <tr>\n",
              "      <th>5390</th>\n",
              "      <td>Owen has been described by some as a malicious...</td>\n",
              "      <td>ORG_YES_PRODUCT_NO_PERSON_YES_</td>\n",
              "      <td>biographies</td>\n",
              "    </tr>\n",
              "    <tr>\n",
              "      <th>860</th>\n",
              "      <td>Boulton's share was worth little without Watt...</td>\n",
              "      <td>ORG_YES_PRODUCT_NO_PERSON_YES_</td>\n",
              "      <td>biographies</td>\n",
              "    </tr>\n",
              "    <tr>\n",
              "      <th>7270</th>\n",
              "      <td>The area where the user can interact with is c...</td>\n",
              "      <td>ORG_NO_PRODUCT_NO_PERSON_NO_</td>\n",
              "      <td>programming</td>\n",
              "    </tr>\n",
              "  </tbody>\n",
              "</table>\n",
              "<p>7477 rows × 3 columns</p>\n",
              "</div>\n",
              "    <div class=\"colab-df-buttons\">\n",
              "\n",
              "  <div class=\"colab-df-container\">\n",
              "    <button class=\"colab-df-convert\" onclick=\"convertToInteractive('df-c49e8151-8951-4eab-95f1-3cf1f52335bb')\"\n",
              "            title=\"Convert this dataframe to an interactive table.\"\n",
              "            style=\"display:none;\">\n",
              "\n",
              "  <svg xmlns=\"http://www.w3.org/2000/svg\" height=\"24px\" viewBox=\"0 -960 960 960\">\n",
              "    <path d=\"M120-120v-720h720v720H120Zm60-500h600v-160H180v160Zm220 220h160v-160H400v160Zm0 220h160v-160H400v160ZM180-400h160v-160H180v160Zm440 0h160v-160H620v160ZM180-180h160v-160H180v160Zm440 0h160v-160H620v160Z\"/>\n",
              "  </svg>\n",
              "    </button>\n",
              "\n",
              "  <style>\n",
              "    .colab-df-container {\n",
              "      display:flex;\n",
              "      gap: 12px;\n",
              "    }\n",
              "\n",
              "    .colab-df-convert {\n",
              "      background-color: #E8F0FE;\n",
              "      border: none;\n",
              "      border-radius: 50%;\n",
              "      cursor: pointer;\n",
              "      display: none;\n",
              "      fill: #1967D2;\n",
              "      height: 32px;\n",
              "      padding: 0 0 0 0;\n",
              "      width: 32px;\n",
              "    }\n",
              "\n",
              "    .colab-df-convert:hover {\n",
              "      background-color: #E2EBFA;\n",
              "      box-shadow: 0px 1px 2px rgba(60, 64, 67, 0.3), 0px 1px 3px 1px rgba(60, 64, 67, 0.15);\n",
              "      fill: #174EA6;\n",
              "    }\n",
              "\n",
              "    .colab-df-buttons div {\n",
              "      margin-bottom: 4px;\n",
              "    }\n",
              "\n",
              "    [theme=dark] .colab-df-convert {\n",
              "      background-color: #3B4455;\n",
              "      fill: #D2E3FC;\n",
              "    }\n",
              "\n",
              "    [theme=dark] .colab-df-convert:hover {\n",
              "      background-color: #434B5C;\n",
              "      box-shadow: 0px 1px 3px 1px rgba(0, 0, 0, 0.15);\n",
              "      filter: drop-shadow(0px 1px 2px rgba(0, 0, 0, 0.3));\n",
              "      fill: #FFFFFF;\n",
              "    }\n",
              "  </style>\n",
              "\n",
              "    <script>\n",
              "      const buttonEl =\n",
              "        document.querySelector('#df-c49e8151-8951-4eab-95f1-3cf1f52335bb button.colab-df-convert');\n",
              "      buttonEl.style.display =\n",
              "        google.colab.kernel.accessAllowed ? 'block' : 'none';\n",
              "\n",
              "      async function convertToInteractive(key) {\n",
              "        const element = document.querySelector('#df-c49e8151-8951-4eab-95f1-3cf1f52335bb');\n",
              "        const dataTable =\n",
              "          await google.colab.kernel.invokeFunction('convertToInteractive',\n",
              "                                                    [key], {});\n",
              "        if (!dataTable) return;\n",
              "\n",
              "        const docLinkHtml = 'Like what you see? Visit the ' +\n",
              "          '<a target=\"_blank\" href=https://colab.research.google.com/notebooks/data_table.ipynb>data table notebook</a>'\n",
              "          + ' to learn more about interactive tables.';\n",
              "        element.innerHTML = '';\n",
              "        dataTable['output_type'] = 'display_data';\n",
              "        await google.colab.output.renderOutput(dataTable, element);\n",
              "        const docLink = document.createElement('div');\n",
              "        docLink.innerHTML = docLinkHtml;\n",
              "        element.appendChild(docLink);\n",
              "      }\n",
              "    </script>\n",
              "  </div>\n",
              "\n",
              "\n",
              "<div id=\"df-eb3e3fc9-91de-4a92-b456-0b096d5d6b61\">\n",
              "  <button class=\"colab-df-quickchart\" onclick=\"quickchart('df-eb3e3fc9-91de-4a92-b456-0b096d5d6b61')\"\n",
              "            title=\"Suggest charts\"\n",
              "            style=\"display:none;\">\n",
              "\n",
              "<svg xmlns=\"http://www.w3.org/2000/svg\" height=\"24px\"viewBox=\"0 0 24 24\"\n",
              "     width=\"24px\">\n",
              "    <g>\n",
              "        <path d=\"M19 3H5c-1.1 0-2 .9-2 2v14c0 1.1.9 2 2 2h14c1.1 0 2-.9 2-2V5c0-1.1-.9-2-2-2zM9 17H7v-7h2v7zm4 0h-2V7h2v10zm4 0h-2v-4h2v4z\"/>\n",
              "    </g>\n",
              "</svg>\n",
              "  </button>\n",
              "\n",
              "<style>\n",
              "  .colab-df-quickchart {\n",
              "      --bg-color: #E8F0FE;\n",
              "      --fill-color: #1967D2;\n",
              "      --hover-bg-color: #E2EBFA;\n",
              "      --hover-fill-color: #174EA6;\n",
              "      --disabled-fill-color: #AAA;\n",
              "      --disabled-bg-color: #DDD;\n",
              "  }\n",
              "\n",
              "  [theme=dark] .colab-df-quickchart {\n",
              "      --bg-color: #3B4455;\n",
              "      --fill-color: #D2E3FC;\n",
              "      --hover-bg-color: #434B5C;\n",
              "      --hover-fill-color: #FFFFFF;\n",
              "      --disabled-bg-color: #3B4455;\n",
              "      --disabled-fill-color: #666;\n",
              "  }\n",
              "\n",
              "  .colab-df-quickchart {\n",
              "    background-color: var(--bg-color);\n",
              "    border: none;\n",
              "    border-radius: 50%;\n",
              "    cursor: pointer;\n",
              "    display: none;\n",
              "    fill: var(--fill-color);\n",
              "    height: 32px;\n",
              "    padding: 0;\n",
              "    width: 32px;\n",
              "  }\n",
              "\n",
              "  .colab-df-quickchart:hover {\n",
              "    background-color: var(--hover-bg-color);\n",
              "    box-shadow: 0 1px 2px rgba(60, 64, 67, 0.3), 0 1px 3px 1px rgba(60, 64, 67, 0.15);\n",
              "    fill: var(--button-hover-fill-color);\n",
              "  }\n",
              "\n",
              "  .colab-df-quickchart-complete:disabled,\n",
              "  .colab-df-quickchart-complete:disabled:hover {\n",
              "    background-color: var(--disabled-bg-color);\n",
              "    fill: var(--disabled-fill-color);\n",
              "    box-shadow: none;\n",
              "  }\n",
              "\n",
              "  .colab-df-spinner {\n",
              "    border: 2px solid var(--fill-color);\n",
              "    border-color: transparent;\n",
              "    border-bottom-color: var(--fill-color);\n",
              "    animation:\n",
              "      spin 1s steps(1) infinite;\n",
              "  }\n",
              "\n",
              "  @keyframes spin {\n",
              "    0% {\n",
              "      border-color: transparent;\n",
              "      border-bottom-color: var(--fill-color);\n",
              "      border-left-color: var(--fill-color);\n",
              "    }\n",
              "    20% {\n",
              "      border-color: transparent;\n",
              "      border-left-color: var(--fill-color);\n",
              "      border-top-color: var(--fill-color);\n",
              "    }\n",
              "    30% {\n",
              "      border-color: transparent;\n",
              "      border-left-color: var(--fill-color);\n",
              "      border-top-color: var(--fill-color);\n",
              "      border-right-color: var(--fill-color);\n",
              "    }\n",
              "    40% {\n",
              "      border-color: transparent;\n",
              "      border-right-color: var(--fill-color);\n",
              "      border-top-color: var(--fill-color);\n",
              "    }\n",
              "    60% {\n",
              "      border-color: transparent;\n",
              "      border-right-color: var(--fill-color);\n",
              "    }\n",
              "    80% {\n",
              "      border-color: transparent;\n",
              "      border-right-color: var(--fill-color);\n",
              "      border-bottom-color: var(--fill-color);\n",
              "    }\n",
              "    90% {\n",
              "      border-color: transparent;\n",
              "      border-bottom-color: var(--fill-color);\n",
              "    }\n",
              "  }\n",
              "</style>\n",
              "\n",
              "  <script>\n",
              "    async function quickchart(key) {\n",
              "      const quickchartButtonEl =\n",
              "        document.querySelector('#' + key + ' button');\n",
              "      quickchartButtonEl.disabled = true;  // To prevent multiple clicks.\n",
              "      quickchartButtonEl.classList.add('colab-df-spinner');\n",
              "      try {\n",
              "        const charts = await google.colab.kernel.invokeFunction(\n",
              "            'suggestCharts', [key], {});\n",
              "      } catch (error) {\n",
              "        console.error('Error during call to suggestCharts:', error);\n",
              "      }\n",
              "      quickchartButtonEl.classList.remove('colab-df-spinner');\n",
              "      quickchartButtonEl.classList.add('colab-df-quickchart-complete');\n",
              "    }\n",
              "    (() => {\n",
              "      let quickchartButtonEl =\n",
              "        document.querySelector('#df-eb3e3fc9-91de-4a92-b456-0b096d5d6b61 button');\n",
              "      quickchartButtonEl.style.display =\n",
              "        google.colab.kernel.accessAllowed ? 'block' : 'none';\n",
              "    })();\n",
              "  </script>\n",
              "</div>\n",
              "    </div>\n",
              "  </div>\n"
            ],
            "text/plain": [
              "                                              paragraph  \\\n",
              "6443  Extension of the Bank to the north-west, the e...   \n",
              "5846  Thomson's separation of neon isotopes by their...   \n",
              "7104  The Python License was an open-source, GPL-com...   \n",
              "251    Now let's be clear before we go any further t...   \n",
              "8606  A General System of Botany, Descriptive and An...   \n",
              "...                                                 ...   \n",
              "5734  Britannia Hospital is a 1982 British black com...   \n",
              "5191  The earliest clear discussion of the karma doc...   \n",
              "5390  Owen has been described by some as a malicious...   \n",
              "860    Boulton's share was worth little without Watt...   \n",
              "7270  The area where the user can interact with is c...   \n",
              "\n",
              "                          has_entity                              category  \n",
              "6443   ORG_YES_PRODUCT_NO_PERSON_NO_                           biographies  \n",
              "5846  ORG_YES_PRODUCT_NO_PERSON_YES_                           biographies  \n",
              "7104   ORG_YES_PRODUCT_NO_PERSON_NO_                           programming  \n",
              "251   ORG_YES_PRODUCT_NO_PERSON_YES_                           biographies  \n",
              "8606   ORG_NO_PRODUCT_NO_PERSON_YES_                           biographies  \n",
              "...                              ...                                   ...  \n",
              "5734  ORG_YES_PRODUCT_NO_PERSON_YES_  movies about artificial intelligence  \n",
              "5191  ORG_YES_PRODUCT_NO_PERSON_YES_                            philosophy  \n",
              "5390  ORG_YES_PRODUCT_NO_PERSON_YES_                           biographies  \n",
              "860   ORG_YES_PRODUCT_NO_PERSON_YES_                           biographies  \n",
              "7270    ORG_NO_PRODUCT_NO_PERSON_NO_                           programming  \n",
              "\n",
              "[7477 rows x 3 columns]"
            ]
          },
          "execution_count": 21,
          "metadata": {},
          "output_type": "execute_result"
        }
      ],
      "source": [
        "train_data"
      ]
    },
    {
      "cell_type": "code",
      "execution_count": null,
      "metadata": {
        "colab": {
          "base_uri": "https://localhost:8080/"
        },
        "id": "japJTd2rCoBY",
        "outputId": "37cf250a-9e14-40aa-a91c-c96d292ac395"
      },
      "outputs": [
        {
          "data": {
            "text/plain": [
              "biographies                             2383\n",
              "philosophy                              2085\n",
              "programming                             1582\n",
              "artificial intelligence                 1241\n",
              "movies about artificial intelligence     129\n",
              "nan                                       57\n",
              "Name: category, dtype: int64"
            ]
          },
          "execution_count": 22,
          "metadata": {},
          "output_type": "execute_result"
        }
      ],
      "source": [
        "train_data['category'].value_counts()"
      ]
    },
    {
      "cell_type": "code",
      "execution_count": null,
      "metadata": {
        "id": "iLWQ21QlWdv-"
      },
      "outputs": [],
      "source": [
        "\n",
        "nlp = spacy.load('en_core_web_sm')\n"
      ]
    },
    {
      "cell_type": "markdown",
      "metadata": {
        "id": "rm1EkdZUHh0o"
      },
      "source": [
        "# Tokenization & Lemmatization"
      ]
    },
    {
      "cell_type": "markdown",
      "metadata": {
        "id": "Mdoh14LKIdxT"
      },
      "source": [
        "**Tokenization**"
      ]
    },
    {
      "cell_type": "code",
      "execution_count": null,
      "metadata": {
        "id": "3Ip4km59XHZ0"
      },
      "outputs": [],
      "source": [
        "# doc= nlp(test_data.iloc[1]['paragraph'])\n",
        "\n",
        "# print('The original document starts with:')\n",
        "# print(test_data.iloc[1]['paragraph'][0:100])\n",
        "# print('')\n",
        "\n",
        "# print(\"Now let's print its first 20 tokens\")\n",
        "# for i,token in enumerate(doc):\n",
        "#   print(f\"Token number {i} is: '{token}'\")\n",
        "#   if i>20:\n",
        "#     break"
      ]
    },
    {
      "cell_type": "code",
      "execution_count": null,
      "metadata": {
        "colab": {
          "base_uri": "https://localhost:8080/"
        },
        "id": "_fMIEyjtWhCq",
        "outputId": "8b5dc9e0-71c1-48f1-86ae-79a967a3f8c2"
      },
      "outputs": [
        {
          "name": "stdout",
          "output_type": "stream",
          "text": [
            "The original document starts with:\n",
            "Thomson's separation of neon isotopes by their mass was the first example of mass spectrometry, whic\n",
            "\n",
            "Now let's print its first 20 tokens\n",
            "Token number 0 is: 'Thomson'\n",
            "Token number 1 is: ''s'\n",
            "Token number 2 is: 'separation'\n",
            "Token number 3 is: 'of'\n",
            "Token number 4 is: 'neon'\n",
            "Token number 5 is: 'isotopes'\n",
            "Token number 6 is: 'by'\n",
            "Token number 7 is: 'their'\n",
            "Token number 8 is: 'mass'\n",
            "Token number 9 is: 'was'\n",
            "Token number 10 is: 'the'\n",
            "Token number 11 is: 'first'\n",
            "Token number 12 is: 'example'\n",
            "Token number 13 is: 'of'\n",
            "Token number 14 is: 'mass'\n",
            "Token number 15 is: 'spectrometry'\n",
            "Token number 16 is: ','\n",
            "Token number 17 is: 'which'\n",
            "Token number 18 is: 'was'\n",
            "Token number 19 is: 'subsequently'\n",
            "Token number 20 is: 'improved'\n",
            "Token number 21 is: 'and'\n"
          ]
        }
      ],
      "source": [
        "doc= nlp(train_data.iloc[1]['paragraph'])\n",
        "\n",
        "print('The original document starts with:')\n",
        "print(train_data.iloc[1]['paragraph'][0:100])\n",
        "print('')\n",
        "\n",
        "print(\"Now let's print its first 20 tokens\")\n",
        "for i,token in enumerate(doc):\n",
        "  print(f\"Token number {i} is: '{token}'\")\n",
        "  if i>20:\n",
        "    break"
      ]
    },
    {
      "cell_type": "markdown",
      "metadata": {
        "id": "yXyrK1h1Ydaa"
      },
      "source": [
        "**Lemmatization**"
      ]
    },
    {
      "cell_type": "code",
      "execution_count": null,
      "metadata": {
        "colab": {
          "base_uri": "https://localhost:8080/"
        },
        "id": "bE4q3ZfVX9tb",
        "outputId": "f5a41aed-09d1-41b9-ecfd-267e5f846e6a"
      },
      "outputs": [
        {
          "name": "stdout",
          "output_type": "stream",
          "text": [
            "The original document starts with:\n",
            "Thomson's separation of neon isotopes by their mass was the first example of mass spectrometry, whic\n",
            "\n",
            "Now let's print the lemmatized version of its first 20 tokens\n",
            "The token and its lemma for token number 0 is: 'Thomson', 'Thomson'\n",
            "The token and its lemma for token number 1 is: ''s', ''s'\n",
            "The token and its lemma for token number 2 is: 'separation', 'separation'\n",
            "The token and its lemma for token number 3 is: 'of', 'of'\n",
            "The token and its lemma for token number 4 is: 'neon', 'neon'\n",
            "The token and its lemma for token number 5 is: 'isotopes', 'isotope'\n",
            "The token and its lemma for token number 6 is: 'by', 'by'\n",
            "The token and its lemma for token number 7 is: 'their', 'their'\n",
            "The token and its lemma for token number 8 is: 'mass', 'mass'\n",
            "The token and its lemma for token number 9 is: 'was', 'be'\n",
            "The token and its lemma for token number 10 is: 'the', 'the'\n",
            "The token and its lemma for token number 11 is: 'first', 'first'\n",
            "The token and its lemma for token number 12 is: 'example', 'example'\n",
            "The token and its lemma for token number 13 is: 'of', 'of'\n",
            "The token and its lemma for token number 14 is: 'mass', 'mass'\n",
            "The token and its lemma for token number 15 is: 'spectrometry', 'spectrometry'\n",
            "The token and its lemma for token number 16 is: ',', ','\n",
            "The token and its lemma for token number 17 is: 'which', 'which'\n",
            "The token and its lemma for token number 18 is: 'was', 'be'\n",
            "The token and its lemma for token number 19 is: 'subsequently', 'subsequently'\n",
            "The token and its lemma for token number 20 is: 'improved', 'improve'\n",
            "The token and its lemma for token number 21 is: 'and', 'and'\n"
          ]
        }
      ],
      "source": [
        "doc= nlp(train_data.iloc[1]['paragraph'])\n",
        "\n",
        "print('The original document starts with:')\n",
        "print(train_data.iloc[1]['paragraph'][0:100])\n",
        "print('')\n",
        "\n",
        "# check the lemmatized tokens\n",
        "print(\"Now let's print the lemmatized version of its first 20 tokens\")\n",
        "for i,token in enumerate(doc):\n",
        "  print(f\"The token and its lemma for token number {i} is: '{token}', '{token.lemma_}'\")\n",
        "  if i>20:\n",
        "    break"
      ]
    },
    {
      "cell_type": "code",
      "execution_count": null,
      "metadata": {
        "colab": {
          "base_uri": "https://localhost:8080/"
        },
        "id": "N6zSCqTRYutz",
        "outputId": "0034d205-4895-4670-b5b2-9a58be023f5e"
      },
      "outputs": [
        {
          "name": "stdout",
          "output_type": "stream",
          "text": [
            "There are 326 stopwords in Spacy. These are:\n",
            "[\"'d\", \"'ll\", \"'m\", \"'re\", \"'s\", \"'ve\", 'a', 'about', 'above', 'across', 'after', 'afterwards', 'again', 'against', 'all', 'almost', 'alone', 'along', 'already', 'also', 'although', 'always', 'am', 'among', 'amongst', 'amount', 'an', 'and', 'another', 'any', 'anyhow', 'anyone', 'anything', 'anyway', 'anywhere', 'are', 'around', 'as', 'at', 'back', 'be', 'became', 'because', 'become', 'becomes', 'becoming', 'been', 'before', 'beforehand', 'behind', 'being', 'below', 'beside', 'besides', 'between', 'beyond', 'both', 'bottom', 'but', 'by', 'ca', 'call', 'can', 'cannot', 'could', 'did', 'do', 'does', 'doing', 'done', 'down', 'due', 'during', 'each', 'eight', 'either', 'eleven', 'else', 'elsewhere', 'empty', 'enough', 'even', 'ever', 'every', 'everyone', 'everything', 'everywhere', 'except', 'few', 'fifteen', 'fifty', 'first', 'five', 'for', 'former', 'formerly', 'forty', 'four', 'from', 'front', 'full', 'further', 'get', 'give', 'go', 'had', 'has', 'have', 'he', 'hence', 'her', 'here', 'hereafter', 'hereby', 'herein', 'hereupon', 'hers', 'herself', 'him', 'himself', 'his', 'how', 'however', 'hundred', 'i', 'if', 'in', 'indeed', 'into', 'is', 'it', 'its', 'itself', 'just', 'keep', 'last', 'latter', 'latterly', 'least', 'less', 'made', 'make', 'many', 'may', 'me', 'meanwhile', 'might', 'mine', 'more', 'moreover', 'most', 'mostly', 'move', 'much', 'must', 'my', 'myself', \"n't\", 'name', 'namely', 'neither', 'never', 'nevertheless', 'next', 'nine', 'no', 'nobody', 'none', 'noone', 'nor', 'not', 'nothing', 'now', 'nowhere', 'n‘t', 'n’t', 'of', 'off', 'often', 'on', 'once', 'one', 'only', 'onto', 'or', 'other', 'others', 'otherwise', 'our', 'ours', 'ourselves', 'out', 'over', 'own', 'part', 'per', 'perhaps', 'please', 'put', 'quite', 'rather', 're', 'really', 'regarding', 'same', 'say', 'see', 'seem', 'seemed', 'seeming', 'seems', 'serious', 'several', 'she', 'should', 'show', 'side', 'since', 'six', 'sixty', 'so', 'some', 'somehow', 'someone', 'something', 'sometime', 'sometimes', 'somewhere', 'still', 'such', 'take', 'ten', 'than', 'that', 'the', 'their', 'them', 'themselves', 'then', 'thence', 'there', 'thereafter', 'thereby', 'therefore', 'therein', 'thereupon', 'these', 'they', 'third', 'this', 'those', 'though', 'three', 'through', 'throughout', 'thru', 'thus', 'to', 'together', 'too', 'top', 'toward', 'towards', 'twelve', 'twenty', 'two', 'under', 'unless', 'until', 'up', 'upon', 'us', 'used', 'using', 'various', 'very', 'via', 'was', 'we', 'well', 'were', 'what', 'whatever', 'when', 'whence', 'whenever', 'where', 'whereafter', 'whereas', 'whereby', 'wherein', 'whereupon', 'wherever', 'whether', 'which', 'while', 'whither', 'who', 'whoever', 'whole', 'whom', 'whose', 'why', 'will', 'with', 'within', 'without', 'would', 'yet', 'you', 'your', 'yours', 'yourself', 'yourselves', '‘d', '‘ll', '‘m', '‘re', '‘s', '‘ve', '’d', '’ll', '’m', '’re', '’s', '’ve']\n",
            "\n"
          ]
        }
      ],
      "source": [
        "spacy_stopwords = nlp.Defaults.stop_words\n",
        "print(f\"There are {len(spacy_stopwords)} stopwords in Spacy. These are:\")\n",
        "print(sorted(spacy_stopwords))\n",
        "print()"
      ]
    },
    {
      "cell_type": "code",
      "execution_count": null,
      "metadata": {
        "colab": {
          "base_uri": "https://localhost:8080/"
        },
        "id": "IZYZDQCGY3si",
        "outputId": "d86239c2-594e-4043-d4fb-9b5ce2b8979c"
      },
      "outputs": [
        {
          "name": "stdout",
          "output_type": "stream",
          "text": [
            "The original document starts with:\n",
            "Thomson's separation of neon isotopes by their mass was the first example of mass spectrometry,\n",
            "\n",
            "Now let's print the first 20 tokens and check if they're stopwords\n",
            "The token number 0 is 'Thomson', but is it a stopword? NO\n",
            "The token number 1 is ''s', but is it a stopword? YES\n",
            "The token number 2 is 'separation', but is it a stopword? NO\n",
            "The token number 3 is 'of', but is it a stopword? YES\n",
            "The token number 4 is 'neon', but is it a stopword? NO\n",
            "The token number 5 is 'isotopes', but is it a stopword? NO\n",
            "The token number 6 is 'by', but is it a stopword? YES\n",
            "The token number 7 is 'their', but is it a stopword? YES\n",
            "The token number 8 is 'mass', but is it a stopword? NO\n",
            "The token number 9 is 'was', but is it a stopword? YES\n",
            "The token number 10 is 'the', but is it a stopword? YES\n",
            "The token number 11 is 'first', but is it a stopword? YES\n",
            "The token number 12 is 'example', but is it a stopword? NO\n",
            "The token number 13 is 'of', but is it a stopword? YES\n",
            "The token number 14 is 'mass', but is it a stopword? NO\n",
            "The token number 15 is 'spectrometry', but is it a stopword? NO\n",
            "The token number 16 is ',', but is it a stopword? NO\n",
            "The token number 17 is 'which', but is it a stopword? YES\n",
            "The token number 18 is 'was', but is it a stopword? YES\n",
            "The token number 19 is 'subsequently', but is it a stopword? NO\n",
            "The token number 20 is 'improved', but is it a stopword? NO\n",
            "The token number 21 is 'and', but is it a stopword? YES\n"
          ]
        }
      ],
      "source": [
        "doc= nlp(train_data.iloc[1]['paragraph'])\n",
        "\n",
        "# check the original text\n",
        "print('The original document starts with:')\n",
        "print(train_data.iloc[1]['paragraph'][0:95])\n",
        "print('')\n",
        "\n",
        "# check which tokens are stopwords\n",
        "print(\"Now let's print the first 20 tokens and check if they're stopwords\")\n",
        "for i,token in enumerate(doc):\n",
        "  print(f\"The token number {i} is '{token}', but is it a stopword? \" + (\"YES\" if token.is_stop else \"NO\"))\n",
        "  if i>20:\n",
        "    break"
      ]
    },
    {
      "cell_type": "code",
      "execution_count": null,
      "metadata": {
        "colab": {
          "base_uri": "https://localhost:8080/"
        },
        "id": "QjN-bJwwZDG7",
        "outputId": "8f40526f-1595-4e76-d5fc-f3a6222c9afc"
      },
      "outputs": [
        {
          "name": "stdout",
          "output_type": "stream",
          "text": [
            "The original document starts with:\n",
            "Thomson's separation of neon isotopes by their mass was the first example of mass spectrometry,\n",
            "\n",
            "Now let's print the first 20 tokens and check if they're punctuation symbols\n",
            "The token number 0 is 'Thomson', but is it a punctuation symbol? NO\n",
            "The token number 1 is ''s', but is it a punctuation symbol? NO\n",
            "The token number 2 is 'separation', but is it a punctuation symbol? NO\n",
            "The token number 3 is 'of', but is it a punctuation symbol? NO\n",
            "The token number 4 is 'neon', but is it a punctuation symbol? NO\n",
            "The token number 5 is 'isotopes', but is it a punctuation symbol? NO\n",
            "The token number 6 is 'by', but is it a punctuation symbol? NO\n",
            "The token number 7 is 'their', but is it a punctuation symbol? NO\n",
            "The token number 8 is 'mass', but is it a punctuation symbol? NO\n",
            "The token number 9 is 'was', but is it a punctuation symbol? NO\n",
            "The token number 10 is 'the', but is it a punctuation symbol? NO\n",
            "The token number 11 is 'first', but is it a punctuation symbol? NO\n",
            "The token number 12 is 'example', but is it a punctuation symbol? NO\n",
            "The token number 13 is 'of', but is it a punctuation symbol? NO\n",
            "The token number 14 is 'mass', but is it a punctuation symbol? NO\n",
            "The token number 15 is 'spectrometry', but is it a punctuation symbol? NO\n",
            "The token number 16 is ',', but is it a punctuation symbol? YES\n",
            "The token number 17 is 'which', but is it a punctuation symbol? NO\n",
            "The token number 18 is 'was', but is it a punctuation symbol? NO\n",
            "The token number 19 is 'subsequently', but is it a punctuation symbol? NO\n",
            "The token number 20 is 'improved', but is it a punctuation symbol? NO\n",
            "The token number 21 is 'and', but is it a punctuation symbol? NO\n",
            "The token number 22 is 'developed', but is it a punctuation symbol? NO\n",
            "The token number 23 is 'into', but is it a punctuation symbol? NO\n",
            "The token number 24 is 'a', but is it a punctuation symbol? NO\n",
            "The token number 25 is 'general', but is it a punctuation symbol? NO\n",
            "The token number 26 is 'method', but is it a punctuation symbol? NO\n",
            "The token number 27 is 'by', but is it a punctuation symbol? NO\n",
            "The token number 28 is 'F.', but is it a punctuation symbol? NO\n",
            "The token number 29 is 'W.', but is it a punctuation symbol? NO\n",
            "The token number 30 is 'Aston', but is it a punctuation symbol? NO\n",
            "The token number 31 is 'and', but is it a punctuation symbol? NO\n",
            "The token number 32 is 'by', but is it a punctuation symbol? NO\n",
            "The token number 33 is 'A.', but is it a punctuation symbol? NO\n",
            "The token number 34 is 'J.', but is it a punctuation symbol? NO\n",
            "The token number 35 is 'Dempster', but is it a punctuation symbol? NO\n",
            "The token number 36 is '.', but is it a punctuation symbol? YES\n"
          ]
        }
      ],
      "source": [
        "\n",
        "doc= nlp(train_data.iloc[1]['paragraph'])\n",
        "\n",
        "print('The original document starts with:')\n",
        "print(train_data.iloc[1]['paragraph'][0:95])\n",
        "print('')\n",
        "\n",
        "# check which tokens are punctuation symbols\n",
        "print(\"Now let's print the first 20 tokens and check if they're punctuation symbols\")\n",
        "for i,token in enumerate(doc):\n",
        "  print(f\"The token number {i} is '{token}', but is it a punctuation symbol? \" + (\"YES\" if token.is_punct else \"NO\"))\n",
        "  if i>50:\n",
        "    break"
      ]
    },
    {
      "cell_type": "code",
      "execution_count": null,
      "metadata": {
        "colab": {
          "base_uri": "https://localhost:8080/"
        },
        "id": "VMnmBrgWZSyR",
        "outputId": "7ea6dd67-5f92-435a-f671-c57f635f0cee"
      },
      "outputs": [
        {
          "name": "stdout",
          "output_type": "stream",
          "text": [
            "Original text:\n",
            "Thomson's separation of neon isotopes by their mass was the first example of mass spectrometry, which was subsequently improved and developed into a general method by F. W. Aston and by A. J. Dempster\n",
            "\n",
            "Processed text:\n",
            "Thomson separation neon isotope mass example mass spectrometry subsequently improve develop general method F. W. Aston a. J. Dempster\n",
            "\n"
          ]
        }
      ],
      "source": [
        "doc= nlp(train_data.iloc[1]['paragraph'])\n",
        "\n",
        "processed_tokens_list = []\n",
        "for token in doc:\n",
        "  if (token.is_stop) or (token.is_punct):\n",
        "    pass\n",
        "  else:\n",
        "    processed_tokens_list.append(token.lemma_)\n",
        "\n",
        "processed_doc= ' '.join(processed_tokens_list)\n",
        "\n",
        "print('Original text:')\n",
        "print(doc.text[:200])\n",
        "\n",
        "print()\n",
        "print('Processed text:')\n",
        "print(processed_doc[:200])\n",
        "\n",
        "print()"
      ]
    },
    {
      "cell_type": "code",
      "execution_count": null,
      "metadata": {
        "colab": {
          "base_uri": "https://localhost:8080/"
        },
        "id": "l38BMsB7aSxF",
        "outputId": "78a76c33-3e95-4746-e081-49c74bc7e6ec"
      },
      "outputs": [
        {
          "name": "stdout",
          "output_type": "stream",
          "text": [
            "The original document starts with:\n",
            "It has been widely estimated for at least the last generation that all the programs and resourc\n",
            "\n",
            "#, Text, Lemma, is_stop, is_punct, is_digit\n",
            "0, Thomson, Thomson, False, False, False\n",
            "1, 's, 's, True, False, False\n",
            "2, separation, separation, False, False, False\n",
            "3, of, of, True, False, False\n",
            "4, neon, neon, False, False, False\n",
            "5, isotopes, isotope, False, False, False\n",
            "6, by, by, True, False, False\n",
            "7, their, their, True, False, False\n",
            "8, mass, mass, False, False, False\n",
            "9, was, be, True, False, False\n",
            "10, the, the, True, False, False\n",
            "11, first, first, True, False, False\n",
            "12, example, example, False, False, False\n",
            "13, of, of, True, False, False\n",
            "14, mass, mass, False, False, False\n",
            "15, spectrometry, spectrometry, False, False, False\n",
            "16, ,, ,, False, True, False\n",
            "17, which, which, True, False, False\n",
            "18, was, be, True, False, False\n",
            "19, subsequently, subsequently, False, False, False\n",
            "20, improved, improve, False, False, False\n",
            "21, and, and, True, False, False\n",
            "22, developed, develop, False, False, False\n",
            "23, into, into, True, False, False\n",
            "24, a, a, True, False, False\n",
            "25, general, general, False, False, False\n",
            "26, method, method, False, False, False\n",
            "27, by, by, True, False, False\n",
            "28, F., F., False, False, False\n",
            "29, W., W., False, False, False\n",
            "30, Aston, Aston, False, False, False\n",
            "31, and, and, True, False, False\n",
            "32, by, by, True, False, False\n",
            "33, A., a., False, False, False\n",
            "34, J., J., False, False, False\n",
            "35, Dempster, Dempster, False, False, False\n",
            "36, ., ., False, True, False\n"
          ]
        }
      ],
      "source": [
        "doc= nlp(train_data.iloc[1]['paragraph'])\n",
        "\n",
        "print('The original document starts with:')\n",
        "print(df.iloc[1]['paragraph'][0:95])\n",
        "print('')\n",
        "\n",
        "# check which tokens are punctuation symbols\n",
        "print(\"#, Text, Lemma, is_stop, is_punct, is_digit\")\n",
        "for i,token in enumerate(doc):\n",
        "  print(f\"{i}, {token.text}, {token.lemma_}, {token.is_stop}, {token.is_punct}, {token.is_digit}\")\n",
        "  if i>100:\n",
        "    break"
      ]
    },
    {
      "cell_type": "code",
      "execution_count": null,
      "metadata": {
        "colab": {
          "base_uri": "https://localhost:8080/"
        },
        "id": "RsDydH4qar-r",
        "outputId": "084a280e-65dc-4155-ae42-d5cb8daf7522"
      },
      "outputs": [
        {
          "name": "stdout",
          "output_type": "stream",
          "text": [
            "Processing the entire training data took 16.24 seconds\n"
          ]
        }
      ],
      "source": [
        "from time import time\n",
        "t_start= time()\n",
        "train_processed = list(nlp.pipe(df['paragraph'].iloc[:1000]))\n",
        "print(f'Processing the entire training data took {time()-t_start:.2f} seconds')"
      ]
    },
    {
      "cell_type": "code",
      "execution_count": null,
      "metadata": {
        "colab": {
          "base_uri": "https://localhost:8080/"
        },
        "id": "5vbnw_RfLc88",
        "outputId": "c5d6a63b-3c19-4895-b7cb-b49ef04e0e80"
      },
      "outputs": [
        {
          "name": "stdout",
          "output_type": "stream",
          "text": [
            "Ramsay Ramsay\n",
            "was be\n",
            "born bear\n",
            "in in\n",
            "Glasgow Glasgow\n",
            "\n",
            "It it\n",
            "has have\n",
            "been be\n",
            "widely widely\n",
            "estimated estimate\n",
            "\n",
            "He he\n",
            "went go\n",
            "on on\n",
            "to to\n",
            "win win\n",
            "\n",
            "The the\n",
            "changes change\n",
            "have have\n",
            "altered alter\n",
            "many many\n",
            "\n",
            "After after\n",
            "these these\n",
            "novels novel\n",
            "were be\n",
            "published publish\n",
            "\n",
            "Philo Philo\n",
            "also also\n",
            "proposes propose\n",
            "that that\n",
            "the the\n",
            "\n",
            "   \n",
            "This this\n",
            "led lead\n",
            "to to\n",
            "the the\n",
            "\n"
          ]
        }
      ],
      "source": [
        "# we can now iterate through the whole corpus to get a document and then...\n",
        "for j,doc in enumerate(train_processed):\n",
        "  #... iterate through each document to get its tokens with their attribute\n",
        "  for i,token in enumerate(doc):\n",
        "    print(token.text, token.lemma_)\n",
        "    if i>3:\n",
        "      # only do this for the first 4 tokens\n",
        "      print()\n",
        "      break\n",
        "  if j>5:\n",
        "    # only do this for the first 6 documents\n",
        "    break"
      ]
    },
    {
      "cell_type": "markdown",
      "metadata": {
        "id": "H4wYqTJVRhdy"
      },
      "source": [
        "# MODELS"
      ]
    },
    {
      "cell_type": "code",
      "execution_count": null,
      "metadata": {
        "colab": {
          "base_uri": "https://localhost:8080/"
        },
        "id": "fGXcRgqDc58p",
        "outputId": "9c983d0f-5424-4cab-eac0-6008cc3fc3d9"
      },
      "outputs": [
        {
          "name": "stdout",
          "output_type": "stream",
          "text": [
            "Accuracy: 0.8941176470588236\n",
            "F1 Score: 0.8844221886008544\n",
            "Classification Report:\n",
            "                                      precision    recall  f1-score   support\n",
            "\n",
            "             artificial intelligence       0.97      0.79      0.87       335\n",
            "                         biographies       0.87      0.92      0.90       572\n",
            "movies about artificial intelligence       1.00      0.03      0.05        38\n",
            "                                 nan       0.00      0.00      0.00         4\n",
            "                          philosophy       0.84      0.95      0.89       513\n",
            "                         programming       0.95      0.96      0.95       408\n",
            "\n",
            "                            accuracy                           0.89      1870\n",
            "                           macro avg       0.77      0.61      0.61      1870\n",
            "                        weighted avg       0.90      0.89      0.88      1870\n",
            "\n"
          ]
        },
        {
          "name": "stderr",
          "output_type": "stream",
          "text": [
            "/usr/local/lib/python3.10/dist-packages/sklearn/metrics/_classification.py:1344: UndefinedMetricWarning: Precision and F-score are ill-defined and being set to 0.0 in labels with no predicted samples. Use `zero_division` parameter to control this behavior.\n",
            "  _warn_prf(average, modifier, msg_start, len(result))\n",
            "/usr/local/lib/python3.10/dist-packages/sklearn/metrics/_classification.py:1344: UndefinedMetricWarning: Precision and F-score are ill-defined and being set to 0.0 in labels with no predicted samples. Use `zero_division` parameter to control this behavior.\n",
            "  _warn_prf(average, modifier, msg_start, len(result))\n",
            "/usr/local/lib/python3.10/dist-packages/sklearn/metrics/_classification.py:1344: UndefinedMetricWarning: Precision and F-score are ill-defined and being set to 0.0 in labels with no predicted samples. Use `zero_division` parameter to control this behavior.\n",
            "  _warn_prf(average, modifier, msg_start, len(result))\n"
          ]
        }
      ],
      "source": [
        "# The following text was generated using OpenAI's GPT-3.5 model on March , 2024:\n",
        "# \"The evaluation of artificial intelligence usage from ethical and academic perspectives is crucial to ensure accurate information flow. (Source: https://openai.com/gpt-3.5)\"\n",
        "\n",
        "from sklearn.feature_extraction.text import TfidfVectorizer\n",
        "from sklearn.naive_bayes import MultinomialNB\n",
        "from sklearn.metrics import accuracy_score, classification_report, f1_score\n",
        "# Split the data into training and testing sets\n",
        "#train_data, test_data = train_test_split(train_data, test_size=0.2, random_state=42)\n",
        "\n",
        "# TF-IDF Vectorization\n",
        "vectorizer = TfidfVectorizer(stop_words='english')\n",
        "X_train = vectorizer.fit_transform(train_data['paragraph'])\n",
        "X_test = vectorizer.transform(test_data['paragraph'])\n",
        "\n",
        "# Train a Naive Bayes classifier\n",
        "classifier = MultinomialNB()\n",
        "classifier.fit(X_train, train_data['category'])\n",
        "\n",
        "# Predictions on the test set\n",
        "predictions = classifier.predict(X_test)\n",
        "\n",
        "# Calculate the metrics\n",
        "accuracy = accuracy_score(test_data['category'], predictions)\n",
        "f1 = f1_score(test_data['category'], predictions, average='weighted')\n",
        "report = classification_report(test_data['category'], predictions)\n",
        "\n",
        "print(f\"Accuracy: {accuracy}\")\n",
        "print(f\"F1 Score: {f1}\")\n",
        "print(\"Classification Report:\")\n",
        "print(report)\n"
      ]
    },
    {
      "cell_type": "code",
      "execution_count": null,
      "metadata": {
        "colab": {
          "base_uri": "https://localhost:8080/"
        },
        "id": "f2EuDYv0UKHj",
        "outputId": "5d059622-060e-43cc-9b7c-a8f2be71ef3e"
      },
      "outputs": [
        {
          "name": "stdout",
          "output_type": "stream",
          "text": [
            "Accuracy: 0.8941176470588236\n",
            "F1 Score: 0.8844221886008544\n",
            "Classification Report:\n",
            "                                      precision    recall  f1-score   support\n",
            "\n",
            "             artificial intelligence       0.97      0.79      0.87       335\n",
            "                         biographies       0.87      0.92      0.90       572\n",
            "movies about artificial intelligence       1.00      0.03      0.05        38\n",
            "                                 nan       0.00      0.00      0.00         4\n",
            "                          philosophy       0.84      0.95      0.89       513\n",
            "                         programming       0.95      0.96      0.95       408\n",
            "\n",
            "                            accuracy                           0.89      1870\n",
            "                           macro avg       0.77      0.61      0.61      1870\n",
            "                        weighted avg       0.90      0.89      0.88      1870\n",
            "\n",
            "Misclassification Rate: 10.59%\n"
          ]
        },
        {
          "name": "stderr",
          "output_type": "stream",
          "text": [
            "/usr/local/lib/python3.10/dist-packages/sklearn/metrics/_classification.py:1344: UndefinedMetricWarning: Precision and F-score are ill-defined and being set to 0.0 in labels with no predicted samples. Use `zero_division` parameter to control this behavior.\n",
            "  _warn_prf(average, modifier, msg_start, len(result))\n",
            "/usr/local/lib/python3.10/dist-packages/sklearn/metrics/_classification.py:1344: UndefinedMetricWarning: Precision and F-score are ill-defined and being set to 0.0 in labels with no predicted samples. Use `zero_division` parameter to control this behavior.\n",
            "  _warn_prf(average, modifier, msg_start, len(result))\n",
            "/usr/local/lib/python3.10/dist-packages/sklearn/metrics/_classification.py:1344: UndefinedMetricWarning: Precision and F-score are ill-defined and being set to 0.0 in labels with no predicted samples. Use `zero_division` parameter to control this behavior.\n",
            "  _warn_prf(average, modifier, msg_start, len(result))\n"
          ]
        }
      ],
      "source": [
        "#X_train = vectorizer.fit_transform(train_data['paragraph'])\n",
        "#y_train = train_data['category']\n",
        "\n",
        "#X_test = vectorizer.transform(test_data['paragraph'])\n",
        "#y_test = test_data['category']\n",
        "\n",
        "\n",
        "classifier = MultinomialNB()\n",
        "classifier.fit(X_train, y_train)\n",
        "\n",
        "predictions = classifier.predict(X_test)\n",
        "\n",
        "misclassified_indices = test_data[test_data['category'] != predictions].index\n",
        "\n",
        "misclassification_rate = len(misclassified_indices) / len(test_data)\n",
        "\n",
        "accuracy = accuracy_score(y_test, predictions)\n",
        "f1 = f1_score(y_test, predictions, average='weighted')\n",
        "report = classification_report(y_test, predictions)\n",
        "\n",
        "print(f\"Accuracy: {accuracy}\")\n",
        "print(f\"F1 Score: {f1}\")\n",
        "print(\"Classification Report:\")\n",
        "print(report)\n",
        "print(f\"Misclassification Rate: {misclassification_rate * 100:.2f}%\")"
      ]
    },
    {
      "cell_type": "code",
      "execution_count": null,
      "metadata": {
        "colab": {
          "base_uri": "https://localhost:8080/"
        },
        "id": "NQgQivqIOmCe",
        "outputId": "5b4278f9-7733-443f-b89d-46bca6472ba6"
      },
      "outputs": [
        {
          "name": "stdout",
          "output_type": "stream",
          "text": [
            "Iteration 1: Misclassification Rate: 10.59%\n",
            "Iteration 2: Misclassification Rate: 10.59%\n",
            "Iteration 3: Misclassification Rate: 10.59%\n",
            "Iteration 4: Misclassification Rate: 10.59%\n",
            "Iteration 5: Misclassification Rate: 10.59%\n",
            "Iteration 6: Misclassification Rate: 10.59%\n",
            "Iteration 7: Misclassification Rate: 10.59%\n",
            "Iteration 8: Misclassification Rate: 10.59%\n",
            "Iteration 9: Misclassification Rate: 10.59%\n",
            "Iteration 10: Misclassification Rate: 10.59%\n",
            "Final Results:\n",
            "Accuracy: 0.8941176470588236\n"
          ]
        }
      ],
      "source": [
        "from sklearn.model_selection import train_test_split\n",
        "from sklearn.feature_extraction.text import TfidfVectorizer\n",
        "from sklearn.naive_bayes import MultinomialNB\n",
        "from sklearn.metrics import accuracy_score\n",
        "\n",
        "vectorizer = TfidfVectorizer(stop_words='english')\n",
        "\n",
        "classifier = MultinomialNB()\n",
        "classifier.fit(X_train, y_train)\n",
        "\n",
        "predictions = classifier.predict(X_test)\n",
        "misclassification_rate = 1 - accuracy_score(y_test, predictions)\n",
        "\n",
        "iteration = 0\n",
        "max_iterations = 10 \n",
        "target_misclassification_rate = 0.10\n",
        "\n",
        "while misclassification_rate > target_misclassification_rate and iteration < max_iterations:\n",
        "\n",
        "    classifier.fit(X_train, y_train)\n",
        "\n",
        "    predictions = classifier.predict(X_test)\n",
        "\n",
        "    misclassification_rate = 1 - accuracy_score(y_test, predictions)\n",
        "\n",
        "    print(f\"Iteration {iteration + 1}: Misclassification Rate: {misclassification_rate * 100:.2f}%\")\n",
        "\n",
        "    iteration += 1\n",
        "\n",
        "accuracy = accuracy_score(y_test, predictions)\n",
        "print(\"Final Results:\")\n",
        "print(f\"Accuracy: {accuracy}\")\n",
        "\n",
        "#i keep getting 10.73 for every iteration this means i need to change the model"
      ]
    },
    {
      "cell_type": "code",
      "execution_count": null,
      "metadata": {
        "colab": {
          "base_uri": "https://localhost:8080/"
        },
        "id": "rjkZ70d6Rm4S",
        "outputId": "fe881c40-8b69-47b3-dec6-af9dc2e62d4b"
      },
      "outputs": [
        {
          "name": "stdout",
          "output_type": "stream",
          "text": [
            "Accuracy: 0.8582887700534759\n",
            "Misclassification Rate: 14.17%\n",
            "Classification Report:\n",
            "                                      precision    recall  f1-score   support\n",
            "\n",
            "             artificial intelligence       0.97      0.69      0.80       335\n",
            "                         biographies       0.83      0.88      0.86       572\n",
            "movies about artificial intelligence       0.00      0.00      0.00        38\n",
            "                                 nan       0.00      0.00      0.00         4\n",
            "                          philosophy       0.79      0.95      0.86       513\n",
            "                         programming       0.94      0.94      0.94       408\n",
            "\n",
            "                            accuracy                           0.86      1870\n",
            "                           macro avg       0.59      0.58      0.58      1870\n",
            "                        weighted avg       0.85      0.86      0.85      1870\n",
            "\n",
            "Confusion Matrix:\n",
            "[[230  34   0   0  58  13]\n",
            " [  4 506   0   0  59   3]\n",
            " [  0  36   0   0   1   1]\n",
            " [  1   2   0   0   1   0]\n",
            " [  2  19   0   0 485   7]\n",
            " [  0  11   0   0  13 384]]\n"
          ]
        },
        {
          "name": "stderr",
          "output_type": "stream",
          "text": [
            "/usr/local/lib/python3.10/dist-packages/sklearn/metrics/_classification.py:1344: UndefinedMetricWarning: Precision and F-score are ill-defined and being set to 0.0 in labels with no predicted samples. Use `zero_division` parameter to control this behavior.\n",
            "  _warn_prf(average, modifier, msg_start, len(result))\n",
            "/usr/local/lib/python3.10/dist-packages/sklearn/metrics/_classification.py:1344: UndefinedMetricWarning: Precision and F-score are ill-defined and being set to 0.0 in labels with no predicted samples. Use `zero_division` parameter to control this behavior.\n",
            "  _warn_prf(average, modifier, msg_start, len(result))\n",
            "/usr/local/lib/python3.10/dist-packages/sklearn/metrics/_classification.py:1344: UndefinedMetricWarning: Precision and F-score are ill-defined and being set to 0.0 in labels with no predicted samples. Use `zero_division` parameter to control this behavior.\n",
            "  _warn_prf(average, modifier, msg_start, len(result))\n"
          ]
        }
      ],
      "source": [
        "from sklearn.model_selection import train_test_split\n",
        "from sklearn.feature_extraction.text import TfidfVectorizer\n",
        "from sklearn.naive_bayes import MultinomialNB\n",
        "from sklearn.metrics import accuracy_score, classification_report, confusion_matrix\n",
        "from scipy.sparse import hstack\n",
        "\n",
        "vectorizer_text = TfidfVectorizer(stop_words='english')\n",
        "X_train_text = vectorizer_text.fit_transform(train_data['paragraph'])# TEXT OLARAK HAS_ENTITY KULLANDIGIM ICIN ONU DA TOKENIZE ETTIM LABEL ENCODER DA KULLANILABILIR BENCE RAPOR YAZMADAN BIR DAHA BI BAK\n",
        "X_test_text = vectorizer_text.transform(test_data['paragraph'])\n",
        "\n",
        "vectorizer_entity = TfidfVectorizer()\n",
        "X_train_entity = vectorizer_entity.fit_transform(train_data['has_entity'].astype(str))\n",
        "X_test_entity = vectorizer_entity.transform(test_data['has_entity'].astype(str))\n",
        "\n",
        "X_train_combined = hstack((X_train_text, X_train_entity))\n",
        "X_test_combined = hstack((X_test_text, X_test_entity))\n",
        "\n",
        "# Etiketleri Al\n",
        "#y_train = train_data['category']\n",
        "#y_test = test_data['category']\n",
        "\n",
        "classifier = MultinomialNB()\n",
        "classifier.fit(X_train_combined, y_train)\n",
        "\n",
        "predictions = classifier.predict(X_test_combined) #true lables\n",
        "\n",
        "accuracy = accuracy_score(y_test, predictions)\n",
        "misclassification_rate = 1 - accuracy\n",
        "\n",
        "print(f\"Accuracy: {accuracy}\")\n",
        "print(f\"Misclassification Rate: {misclassification_rate * 100:.2f}%\")\n",
        "print(\"Classification Report:\")\n",
        "print(classification_report(y_test, predictions))\n",
        "print(\"Confusion Matrix:\")\n",
        "print(confusion_matrix(y_test, predictions))"
      ]
    },
    {
      "cell_type": "markdown",
      "metadata": {
        "id": "mkfO7nJcO7nY"
      },
      "source": [
        "\n",
        "Since i was keep getting the same rate on every iteration that means model needs:\n",
        "\n",
        "1. **More data**\n",
        "2. **Adjusting the model parameters**\n",
        "3. **Using a different model**\n",
        "4. **Better preprocessing**\n",
        "5. **Adjusting vectorized parameters** TF-IDF(exp:, min_df, max_df, ngram_range)\n",
        "6. **Hiperparameter Adjustment**"
      ]
    },
    {
      "cell_type": "code",
      "execution_count": null,
      "metadata": {
        "colab": {
          "base_uri": "https://localhost:8080/"
        },
        "id": "rKmPBlMCStGs",
        "outputId": "4760a65e-bef5-44a5-a4a5-85fbbb983037"
      },
      "outputs": [
        {
          "name": "stdout",
          "output_type": "stream",
          "text": [
            "En iyi parametreler: {'alpha': 0.1}\n"
          ]
        }
      ],
      "source": [
        "# The following text was generated using OpenAI's GPT-3.5 model on March , 2024:\n",
        "# \"The evaluation of artificial intelligence usage from ethical and academic perspectives is crucial to ensure accurate information flow. (Source: https://openai.com/gpt-3.5)\"\n",
        "\n",
        "from sklearn.model_selection import GridSearchCV\n",
        "\n",
        "param_grid = {\n",
        "    'alpha': [0.1, 0.5, 1.0],  # different parameters for alpha\n",
        "}\n",
        "\n",
        "grid_search = GridSearchCV(MultinomialNB(), param_grid, cv=5)\n",
        "grid_search.fit(X_train_combined, y_train)\n",
        "\n",
        "best_classifier = grid_search.best_estimator_\n",
        "print(\"En iyi parametreler:\", grid_search.best_params_)"
      ]
    },
    {
      "cell_type": "code",
      "execution_count": null,
      "metadata": {
        "colab": {
          "base_uri": "https://localhost:8080/"
        },
        "id": "AkawFd3qSw10",
        "outputId": "80d253c0-0985-4559-d6f6-a48c0058703c"
      },
      "outputs": [
        {
          "name": "stdout",
          "output_type": "stream",
          "text": [
            "Accuracy: 0.9208556149732621\n",
            "Misclassification Rate: 7.91%\n",
            "Classification Report:\n",
            "                                      precision    recall  f1-score   support\n",
            "\n",
            "             artificial intelligence       0.93      0.90      0.92       335\n",
            "                         biographies       0.93      0.89      0.91       572\n",
            "movies about artificial intelligence       1.00      0.74      0.85        38\n",
            "                                 nan       0.00      0.00      0.00         4\n",
            "                          philosophy       0.87      0.95      0.91       513\n",
            "                         programming       0.97      0.97      0.97       408\n",
            "\n",
            "                            accuracy                           0.92      1870\n",
            "                           macro avg       0.78      0.74      0.76      1870\n",
            "                        weighted avg       0.92      0.92      0.92      1870\n",
            "\n",
            "Confusion Matrix:\n",
            "[[303  11   0   0  15   6]\n",
            " [ 12 511   0   1  47   1]\n",
            " [  0   8  28   0   2   0]\n",
            " [  1   2   0   0   1   0]\n",
            " [  8  13   0   0 485   7]\n",
            " [  2   5   0   0   6 395]]\n"
          ]
        }
      ],
      "source": [
        "\n",
        "best_classifier.fit(X_train_combined, y_train)\n",
        "\n",
        "predictions = best_classifier.predict(X_test_combined)\n",
        "\n",
        "accuracy = accuracy_score(y_test, predictions)\n",
        "misclassification_rate = 1 - accuracy\n",
        "\n",
        "print(f\"Accuracy: {accuracy}\")\n",
        "print(f\"Misclassification Rate: {misclassification_rate * 100:.2f}%\")\n",
        "print(\"Classification Report:\")\n",
        "print(classification_report(y_test, predictions))\n",
        "print(\"Confusion Matrix:\")\n",
        "print(confusion_matrix(y_test, predictions))"
      ]
    },
    {
      "cell_type": "code",
      "execution_count": null,
      "metadata": {
        "colab": {
          "base_uri": "https://localhost:8080/",
          "height": 466
        },
        "id": "u1qsZznjvJWb",
        "outputId": "c72da576-5f06-435c-d04d-ba93ed1ef851"
      },
      "outputs": [
        {
          "data": {
            "text/plain": [
              "<sklearn.metrics._plot.confusion_matrix.ConfusionMatrixDisplay at 0x7904f942a170>"
            ]
          },
          "execution_count": 41,
          "metadata": {},
          "output_type": "execute_result"
        },
        {
          "data": {
            "image/png": "[encoded data removed]",
            "text/plain": [
              "<Figure size 640x480 with 2 Axes>"
            ]
          },
          "metadata": {},
          "output_type": "display_data"
        }
      ],
      "source": [
        "from sklearn.metrics import confusion_matrix, ConfusionMatrixDisplay\n",
        "\n",
        "ConfusionMatrixDisplay.from_estimator(grid_search,X_test_combined,y_test)"
      ]
    },
    {
      "cell_type": "markdown",
      "metadata": {
        "id": "quKdhDrlLLw4"
      },
      "source": [
        "# PART 2"
      ]
    }
  ],
  "metadata": {
    "colab": {
      "provenance": []
    },
    "kernelspec": {
      "display_name": "Python 3",
      "name": "python3"
    },
    "language_info": {
      "name": "python"
    }
  },
  "nbformat": 4,
  "nbformat_minor": 0
}
